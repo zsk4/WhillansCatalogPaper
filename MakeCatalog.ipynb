{
 "cells": [
  {
   "cell_type": "code",
   "execution_count": 1,
   "id": "91cdcd03",
   "metadata": {},
   "outputs": [],
   "source": [
    "import os\n",
    "import pickle\n",
    "import datetime\n",
    "import warnings\n",
    "\n",
    "import matplotlib.pyplot as plt\n",
    "\n",
    "import pandas as pd\n",
    "import numpy as np\n",
    "from pyproj import CRS, Transformer\n",
    "\n",
    "dir = \"/mnt/d/csrs_2024/all\"\n",
    "toRun = [\"la01\"]\n",
    "years = [\"2016\", \"2017\", \"2018\", \"2019\"]\n",
    "interpolation_time = 15"
   ]
  },
  {
   "cell_type": "code",
   "execution_count": 2,
   "id": "b444e614",
   "metadata": {},
   "outputs": [
    {
     "name": "stdout",
     "output_type": "stream",
     "text": [
      "./tests/ExamplePos\n",
      "<class 'str'>\n",
      "./tests/ExamplePos\n",
      "<class 'str'>\n"
     ]
    },
    {
     "name": "stderr",
     "output_type": "stream",
     "text": [
      "/mnt/c/users/ZacharyKatz/Desktop/WhillansCatPaper/WhillansCatalogPaper/src/Catalog/Catalog.py:130: FutureWarning: The behavior of DataFrame concatenation with empty or all-NA entries is deprecated. In a future version, this will no longer exclude empty or all-NA columns when determining the result dtypes. To retain the old behavior, exclude the relevant entries before the concat operation.\n",
      "  data = pd.concat([data, ind_data], ignore_index=True)\n"
     ]
    }
   ],
   "source": [
    "import src.Catalog.Catalog as Catalog\n",
    "\n",
    "dir = \"./tests\"\n",
    "sta = \"ExamplePos\"\n",
    "years = [\"2010\", \"2011\"]\n",
    "interpolation_time = 15\n",
    "cat = Catalog.Datastream(os.path.join(dir, sta), sta, years, interpolation_time)"
   ]
  },
  {
   "cell_type": "code",
   "execution_count": 14,
   "id": "a9499d26",
   "metadata": {},
   "outputs": [
    {
     "name": "stdout",
     "output_type": "stream",
     "text": [
      "2011-01-01 23:59:45\n"
     ]
    }
   ],
   "source": [
    "print(cat.data[\"time\"].iloc[-1])"
   ]
  },
  {
   "cell_type": "code",
   "execution_count": 1,
   "id": "7fb27b941602401d91542211134fc71a",
   "metadata": {},
   "outputs": [],
   "source": [
    "# Zachary Katz\n",
    "# zachary_katz@mines.edu\n",
    "# 19 February 2024\n",
    "\n",
    "\"\"\"\n",
    "Catalog.ipynb creates the pickle files containing GPS_Data objects for each\n",
    "station in list 'to_run' (see cell labeled # Main). Output pickle files are named\n",
    "XXXX.pkl, where XXXX is the station name. Move output files to folder Pickle\n",
    "for use in picking events (PickEvents.ipynb)\n",
    "\n",
    "Requires processed gps .pos files in folders labeled with station name and year\n",
    "at directory given by string 'dir' (see cell labeled # Main). This is currently\n",
    "coded on the MGL_1 external hard drive, or D drive. \n",
    "\n",
    "Example Directory Tree:\n",
    "--------------------------------------------------------------------------------\n",
    "lissard\n",
    "    ↳la01\n",
    "        ↳2010\n",
    "            ↳la010150.pos\n",
    "             la010160.pos\n",
    "            ...\n",
    "        ↳2011\n",
    "            ...\n",
    "    ↳la02\n",
    "        ...\n",
    "--------------------------------------------------------------------------------\n",
    "\n",
    "Precise point solution files are from Natural Resources Canada, Geodetic Survey \n",
    "Division, Geomatics Canada, and processed at several different times, resulting \n",
    "in several differences in how the data within a file is structured; these are \n",
    "handled by try except statements.\n",
    "\n",
    "Version History\n",
    "1.3 15 April 2024    | Updates to deal with stations with non-15 second increments.\n",
    "                       These stations are indicated in the main cell.\n",
    "1.2 19 February 2024 | Updated load to deal with 2024 CSRS-PPP for files with\n",
    "                       dates startign 2018-01-01, which are back to forward order.\n",
    "1.1 02 February 2024 | Updated load and datastream to proccess 2024 CSRS-PPP\n",
    "                       processed files, which give dates in reverse order.\n",
    "1.0 22 December 2023 | Initial Version\n",
    "\n",
    "Notes For Zachary:\n",
    "- Run with gps python kernel\n",
    "- See notes in # Main cell regarding what data has not been fully extracted to a\n",
    "pickle file.\n",
    "\"\"\"\n",
    "\n",
    "\n",
    "# Class containing info to be stored\n",
    "class GPS_data:\n",
    "    def __init__(self, starts, ends, gaps, data, name, increment):\n",
    "        self.increment = increment\n",
    "        self.starts = starts\n",
    "        self.ends = ends\n",
    "        self.gaps = gaps\n",
    "        self.data = data\n",
    "        self.name = name"
   ]
  },
  {
   "cell_type": "code",
   "execution_count": 2,
   "id": "acae54e37e7d407bbb7b55eff062a284",
   "metadata": {},
   "outputs": [],
   "source": [
    "def ll2xy(lon, lat):\n",
    "    \"\"\"\n",
    "    Transform coordinates from input geodetic coordinates (lon, lat)\n",
    "    to output Antarctic Polar Stereographic coordinates (x, y)\n",
    "\n",
    "    Parameters\n",
    "    lon - Geodetic longitude in EPSG:4326 [float]\n",
    "    lat - Geodetic latitude in EPSG:4326 [float]\n",
    "\n",
    "    Returns\n",
    "    x - Antarctic Polar Stereographic (EPSG:3031) x [float]\n",
    "    y - Antarctic Polar Stereographic (EPSG:3031) y [float]\n",
    "    \"\"\"\n",
    "\n",
    "    crs_ll = CRS(\"EPSG:4326\")\n",
    "    crs_xy = CRS(\"EPSG:3031\")\n",
    "    ll_to_xy = Transformer.from_crs(crs_ll, crs_xy, always_xy=True)\n",
    "    x, y = ll_to_xy.transform(lon, lat)\n",
    "    return x, y"
   ]
  },
  {
   "cell_type": "code",
   "execution_count": 3,
   "id": "9a63283cbaf04dbcab1f6479b197f3a8",
   "metadata": {},
   "outputs": [],
   "source": [
    "def load(file):\n",
    "    \"\"\"\n",
    "    Load processed gps data file into pandas table.\n",
    "\n",
    "    Parameters\n",
    "    file - .pos precise point solution file, Natural Resources Canada [string]\n",
    "\n",
    "    Returns\n",
    "    data - Pandas DataFrame with the following columns, extracted from file\n",
    "        longitude - Geodetic longitude\n",
    "        latitude - Geodetic latitude\n",
    "        elevation - Elevation\n",
    "        time - Time as datetime object\n",
    "        day_of_year - Time as julian day\n",
    "        x - Antarctic Polar Stereographic x\n",
    "        y - Antarctic Polar Stereographic y\n",
    "        dist - Euclidian distance from starting position in meters\n",
    "    flip - flag to flip order of readings for 2024 csrs-ppp data\n",
    "    \"\"\"\n",
    "\n",
    "    data = pd.DataFrame()  # Create Pandas DataFrame\n",
    "    flip = False\n",
    "    # Read data file\n",
    "\n",
    "    # Convert longitude and latitude from deg min sec to fractional degrees\n",
    "    # Three different file formats so try one first and try the other if it\n",
    "    # throws a not found exception.\n",
    "    try:\n",
    "        # CSRS-PPP 2024\n",
    "        d = pd.read_csv(file, skiprows=3, delim_whitespace=True)\n",
    "        # Only take 15 or 30 sec intervals if data is finer spaced\n",
    "        d = d.loc[\n",
    "            d[\"HR:MN:SS.SS\"].str.endswith(\"00.00\")\n",
    "            | d[\"HR:MN:SS.SS\"].str.endswith(\"15.00\")\n",
    "            | d[\"HR:MN:SS.SS\"].str.endswith(\"30.00\")\n",
    "            | d[\"HR:MN:SS.SS\"].str.endswith(\"45.00\")\n",
    "        ]\n",
    "        data[\"longitude\"] = d[\"LONDD\"] - d[\"LONMN\"] / 60 - d[\"LONSS\"] / 60 / 60\n",
    "        data[\"latitude\"] = d[\"LATDD\"] - d[\"LATMN\"] / 60 - d[\"LATSS\"] / 60 / 60\n",
    "        data[\"time\"] = pd.to_datetime(d[\"YEAR-MM-DD\"] + \"T\" + d[\"HR:MN:SS.SS\"])\n",
    "        data[\"day_of_year\"] = d[\"DAYofYEAR\"]\n",
    "\n",
    "        # Look at data and decide if to flip\n",
    "        if len(data.index) > 1:\n",
    "            diff = data[\"time\"].iloc[0] - data[\"time\"].iloc[1]\n",
    "            if diff > datetime.timedelta(seconds=0):\n",
    "                flip = True\n",
    "        # print(file,data['time'].iloc[0],data['time'].iloc[0],diff,flip)\n",
    "        # if data['time'].iloc[0] < datetime.datetime(2018,1,1):\n",
    "        #    flip = True\n",
    "    except Exception as e:\n",
    "        try:\n",
    "            print(e)\n",
    "            d = pd.read_csv(file, skiprows=7, delim_whitespace=True)\n",
    "            data[\"longitude\"] = d[\"LON(d)\"] - d[\"LON(m)\"] / 60 - d[\"LON(s)\"] / 60 / 60\n",
    "            data[\"latitude\"] = d[\"LAT(d)\"] - d[\"LAT(m)\"] / 60 - d[\"LAT(s)\"] / 60 / 60\n",
    "            data[\"time\"] = pd.to_datetime(d[\"YEAR-MM-DD\"] + \"T\" + d[\"HR:MN:SS.SSS\"])\n",
    "            data[\"day_of_year\"] = d[\"DOY\"]\n",
    "        except Exception as e:\n",
    "            try:\n",
    "                print(e)\n",
    "                d = pd.read_csv(file, skiprows=5, delim_whitespace=True)\n",
    "                data[\"longitude\"] = d[\"LONDD\"] - d[\"LONMN\"] / 60 - d[\"LONSS\"] / 60 / 60\n",
    "                data[\"latitude\"] = d[\"LATDD\"] - d[\"LATMN\"] / 60 - d[\"LATSS\"] / 60 / 60\n",
    "                data[\"time\"] = pd.to_datetime(d[\"YEAR-MM-DD\"] + \"T\" + d[\"HR:MN:SS.SS\"])\n",
    "                data[\"day_of_year\"] = d[\"DAYofYEAR\"]\n",
    "            except Exception as e:\n",
    "                print(e)\n",
    "                d = pd.read_csv(file, skiprows=6, delim_whitespace=True)\n",
    "                data[\"longitude\"] = (\n",
    "                    d[\"LON(d)\"] - d[\"LON(m)\"] / 60 - d[\"LON(s)\"] / 60 / 60\n",
    "                )\n",
    "                data[\"latitude\"] = (\n",
    "                    d[\"LAT(d)\"] - d[\"LAT(m)\"] / 60 - d[\"LAT(s)\"] / 60 / 60\n",
    "                )\n",
    "                data[\"time\"] = pd.to_datetime(d[\"YEAR-MM-DD\"] + \"T\" + d[\"HR:MN:SS.SSS\"])\n",
    "                data[\"day_of_year\"] = d[\"DOY\"]\n",
    "\n",
    "    data[\"elevation\"] = d[\"HGT(m)\"]\n",
    "    data[\"sats\"] = d[\"NSV\"]\n",
    "    data[\"GDOP\"] = d[\"GDOP\"]\n",
    "\n",
    "    # Convert to Antarctic Polar Stereographic\n",
    "    x, y = ll2xy(lon=data[\"longitude\"], lat=data[\"latitude\"])\n",
    "    data[\"x\"] = x\n",
    "    data[\"y\"] = y\n",
    "\n",
    "    x0 = data[\"x\"].iloc[0]\n",
    "    y0 = data[\"y\"].iloc[0]\n",
    "\n",
    "    data[\"dist\"] = np.sqrt((data[\"x\"] - x0) ** 2 + (data[\"y\"] - y0) ** 2)\n",
    "\n",
    "    return data, flip"
   ]
  },
  {
   "cell_type": "code",
   "execution_count": 4,
   "id": "8dd0d8092fe74a7c96281538738b07e2",
   "metadata": {},
   "outputs": [],
   "source": [
    "def datastream(dir, years):\n",
    "    \"\"\"\n",
    "    Takes input directory dir with year subdirectories containign .pos files.\n",
    "    Starting from the first file in the first year, append days until all files\n",
    "    in the directory have been added.\n",
    "\n",
    "    Parameters\n",
    "    dir - Input directory tree with structure described in top comment [string]\n",
    "    years - years to be run [arr of strings]\n",
    "\n",
    "    Returns\n",
    "    data - Resulting multiday time series, data. [DataFrame]\n",
    "    \"\"\"\n",
    "    data = pd.DataFrame()\n",
    "    for year in years:\n",
    "        for folder in os.scandir(dir.path):\n",
    "            if folder.is_dir():  # folder is an os.DirEntry object\n",
    "                if folder.name == year:\n",
    "                    print(folder.name)\n",
    "                    for gps in sorted(os.listdir(folder.path)):\n",
    "                        if gps.endswith(\".pos\") and not gps.startswith(\n",
    "                            \".\"\n",
    "                        ):  # Ignore xyzt, zip files\n",
    "                            # print(gps)\n",
    "                            ind_data, flip = load(folder.path + \"/\" + gps)\n",
    "                            if flip:  # Reorder the data if using CSRS-PPP 2024 pre 2018\n",
    "                                ind_data = ind_data.reindex(index=ind_data.index[::-1])\n",
    "                            data = pd.concat([data, ind_data], ignore_index=True)\n",
    "    return data"
   ]
  },
  {
   "cell_type": "code",
   "execution_count": 5,
   "id": "72eea5119410473aa328ad9291626812",
   "metadata": {},
   "outputs": [],
   "source": [
    "def interpolate(data, prior_date, date, gap, i, interpolate_elements):\n",
    "    \"\"\"\n",
    "    Interpolate the given data gap using Pandas' linear interpolation scheme.\n",
    "\n",
    "    Input Parametrers\n",
    "        data - PandasDataframe with time gaps [DataFrame]\n",
    "        prior_data - last time entry before data gap [Datetime]\n",
    "        date - first time entry after data gap [Datetime]\n",
    "        gap - length of gap in seconds [Timedelta]\n",
    "        i - DataFrame row index of first entry after data gap [integer]\n",
    "        interpolate_elements - number of elements needed to be interpolated [integer]\n",
    "\n",
    "    Returns\n",
    "        data - interpolated DataFrame [DataFrame]\n",
    "    \"\"\"\n",
    "\n",
    "    # Loop over each missing row\n",
    "    for row in range(interpolate_elements - 1):\n",
    "        # Make dataframe row\n",
    "        insert = pd.DataFrame(columns=data.columns, index=[i + row])\n",
    "        with warnings.catch_warnings():\n",
    "            warnings.simplefilter(action=\"ignore\", category=FutureWarning)\n",
    "            data = pd.concat(\n",
    "                [data.iloc[: i + row], insert, data.iloc[i + row :]]\n",
    "            ).reset_index(drop=True)\n",
    "    data = data.interpolate(method=\"linear\")  # Built-in pandas function\n",
    "    return data"
   ]
  },
  {
   "cell_type": "code",
   "execution_count": 6,
   "id": "8edb47106e1a46a883d545849b8ab81b",
   "metadata": {},
   "outputs": [],
   "source": [
    "def findgaps(data, gap_len):\n",
    "    \"\"\"\n",
    "    Finds gaps in a dataframe loaded with datastream. Returns interpolated data\n",
    "    and two arrays corresponding to the start entry and the length of the gap\n",
    "\n",
    "    Input Paramerers\n",
    "        data - DataFrame with or without gaps to interpolate [DataFrame]\n",
    "        gap_len - the length of time of the base data\n",
    "    Returns\n",
    "        data - DataFrame that has been interpolated [DataFrame]\n",
    "        starts - list of start times of uninterpolated data gaps (because they\n",
    "                were too long to interpolate) [Array of Datetimes]\n",
    "        ends - list of end times of uninterpolated data gaps (because they\n",
    "                were too long to interpolate) [Array of Datetimes]\n",
    "        gaps - list of lengths in seconds of uninterpolated data gaps (because\n",
    "                they were too long to interpolate) [Array of Timedeltas]\n",
    "    \"\"\"\n",
    "\n",
    "    starts = []  # First Data point after gap\n",
    "    ends = []  # Last data point before gap\n",
    "    gaps = []  # Length of data [Start time - End time]\n",
    "\n",
    "    # Time (in seconds, inclusive) to allow interpolation before shutting off\n",
    "    interpolate_time = 120\n",
    "    starts.append(data[\"time\"].iloc[0])\n",
    "    for i in data.index:\n",
    "        # Check not first element\n",
    "        if i > 0:\n",
    "            prior_date = data[\"time\"][i - 1]\n",
    "            date = data[\"time\"][i]\n",
    "\n",
    "            # Check if time between dates is not less than 16 seconds\n",
    "            # Choose 16 to catch weird 15 second gaps like 15.00003\n",
    "            gaptime = gap_len + 1\n",
    "            if date - prior_date > datetime.timedelta(seconds=gaptime):\n",
    "                gap = date - prior_date\n",
    "                # print(date,prior_date, i, gap)\n",
    "\n",
    "                # If gap interpolatable, call interpolate and add to df else\n",
    "                # note gap start, end, and length then continue.\n",
    "                if gap <= datetime.timedelta(seconds=interpolate_time):\n",
    "                    # Find number of elements needed to be interpolated, using\n",
    "                    # gap length // 15 seconds,\n",
    "                    interpolate_elements = int(gap.total_seconds() // gap_len)\n",
    "                    print(prior_date, date, gap, i)\n",
    "                    data = interpolate(\n",
    "                        data, prior_date, date, gap, i, interpolate_elements\n",
    "                    )\n",
    "                else:\n",
    "                    starts.append(date)\n",
    "                    ends.append(prior_date)\n",
    "                    gaps.append(gap)\n",
    "    ends.append(data[\"time\"].iloc[-1])\n",
    "    return data, starts, ends, gaps"
   ]
  },
  {
   "cell_type": "code",
   "execution_count": 8,
   "id": "86220474",
   "metadata": {},
   "outputs": [
    {
     "name": "stdout",
     "output_type": "stream",
     "text": [
      "<class 'posix.DirEntry'>\n",
      "<class 'posix.DirEntry'>\n",
      "<class 'posix.DirEntry'>\n",
      "<class 'posix.DirEntry'>\n",
      "<class 'posix.DirEntry'>\n",
      "<class 'posix.DirEntry'>\n",
      "<class 'posix.DirEntry'>\n",
      "<class 'posix.DirEntry'>\n",
      "<class 'posix.DirEntry'>\n",
      "<class 'posix.DirEntry'>\n",
      "<class 'posix.DirEntry'>\n",
      "<class 'posix.DirEntry'>\n",
      "<class 'posix.DirEntry'>\n",
      "<class 'posix.DirEntry'>\n",
      "<class 'posix.DirEntry'>\n",
      "<class 'posix.DirEntry'>\n",
      "<class 'posix.DirEntry'>\n",
      "<class 'posix.DirEntry'>\n",
      "<class 'posix.DirEntry'>\n",
      "<class 'posix.DirEntry'>\n",
      "<class 'posix.DirEntry'>\n",
      "<class 'posix.DirEntry'>\n",
      "<class 'posix.DirEntry'>\n",
      "<class 'posix.DirEntry'>\n",
      "<class 'posix.DirEntry'>\n"
     ]
    }
   ],
   "source": [
    "dir = \"/mnt/c\"\n",
    "\n",
    "# dir = '/mnt/d/data/gps/proc/csrs/lissard'\n",
    "# dir = '/mnt/d/data/gps/proc/csrs/rages'\n",
    "\n",
    "##############################\n",
    "##### CHANGE DIRECTORY #######\n",
    "\n",
    "# Loop over all stations\n",
    "for sta in os.scandir(dir):\n",
    "    print(type(sta))"
   ]
  },
  {
   "cell_type": "code",
   "execution_count": 8,
   "id": "960150b4",
   "metadata": {},
   "outputs": [
    {
     "name": "stderr",
     "output_type": "stream",
     "text": [
      "/tmp/ipykernel_103890/3313739054.py:24: FutureWarning: DataFrame.interpolate with object dtype is deprecated and will raise in a future version. Call obj.infer_objects(copy=False) before interpolating instead.\n",
      "  data = data.interpolate(method='linear') #Built-in pandas function\n"
     ]
    },
    {
     "name": "stdout",
     "output_type": "stream",
     "text": [
      "2018-10-12 13:56:15 2018-10-12 13:57:45 0 days 00:01:30 1714570\n"
     ]
    },
    {
     "name": "stderr",
     "output_type": "stream",
     "text": [
      "/tmp/ipykernel_103890/3313739054.py:24: FutureWarning: DataFrame.interpolate with object dtype is deprecated and will raise in a future version. Call obj.infer_objects(copy=False) before interpolating instead.\n",
      "  data = data.interpolate(method='linear') #Built-in pandas function\n"
     ]
    },
    {
     "name": "stdout",
     "output_type": "stream",
     "text": [
      "2018-10-12 13:58:00 2018-10-12 13:59:45 0 days 00:01:45 1714577\n"
     ]
    },
    {
     "name": "stderr",
     "output_type": "stream",
     "text": [
      "/tmp/ipykernel_103890/3313739054.py:24: FutureWarning: DataFrame.interpolate with object dtype is deprecated and will raise in a future version. Call obj.infer_objects(copy=False) before interpolating instead.\n",
      "  data = data.interpolate(method='linear') #Built-in pandas function\n"
     ]
    },
    {
     "name": "stdout",
     "output_type": "stream",
     "text": [
      "2018-10-12 13:59:45 2018-10-12 14:01:15 0 days 00:01:30 1714584\n"
     ]
    },
    {
     "name": "stderr",
     "output_type": "stream",
     "text": [
      "/tmp/ipykernel_103890/3313739054.py:24: FutureWarning: DataFrame.interpolate with object dtype is deprecated and will raise in a future version. Call obj.infer_objects(copy=False) before interpolating instead.\n",
      "  data = data.interpolate(method='linear') #Built-in pandas function\n"
     ]
    },
    {
     "name": "stdout",
     "output_type": "stream",
     "text": [
      "2018-10-12 14:01:30 2018-10-12 14:03:00 0 days 00:01:30 1714591\n"
     ]
    },
    {
     "name": "stderr",
     "output_type": "stream",
     "text": [
      "/tmp/ipykernel_103890/3313739054.py:24: FutureWarning: DataFrame.interpolate with object dtype is deprecated and will raise in a future version. Call obj.infer_objects(copy=False) before interpolating instead.\n",
      "  data = data.interpolate(method='linear') #Built-in pandas function\n"
     ]
    },
    {
     "name": "stdout",
     "output_type": "stream",
     "text": [
      "2018-10-12 14:03:15 2018-10-12 14:04:30 0 days 00:01:15 1714598\n"
     ]
    },
    {
     "name": "stderr",
     "output_type": "stream",
     "text": [
      "/tmp/ipykernel_103890/3313739054.py:24: FutureWarning: DataFrame.interpolate with object dtype is deprecated and will raise in a future version. Call obj.infer_objects(copy=False) before interpolating instead.\n",
      "  data = data.interpolate(method='linear') #Built-in pandas function\n"
     ]
    },
    {
     "name": "stdout",
     "output_type": "stream",
     "text": [
      "2018-10-12 14:04:45 2018-10-12 14:06:15 0 days 00:01:30 1714604\n"
     ]
    },
    {
     "name": "stderr",
     "output_type": "stream",
     "text": [
      "/tmp/ipykernel_103890/3313739054.py:24: FutureWarning: DataFrame.interpolate with object dtype is deprecated and will raise in a future version. Call obj.infer_objects(copy=False) before interpolating instead.\n",
      "  data = data.interpolate(method='linear') #Built-in pandas function\n"
     ]
    },
    {
     "name": "stdout",
     "output_type": "stream",
     "text": [
      "2018-10-12 14:06:30 2018-10-12 14:08:00 0 days 00:01:30 1714611\n"
     ]
    },
    {
     "name": "stderr",
     "output_type": "stream",
     "text": [
      "/tmp/ipykernel_103890/3313739054.py:24: FutureWarning: DataFrame.interpolate with object dtype is deprecated and will raise in a future version. Call obj.infer_objects(copy=False) before interpolating instead.\n",
      "  data = data.interpolate(method='linear') #Built-in pandas function\n"
     ]
    },
    {
     "name": "stdout",
     "output_type": "stream",
     "text": [
      "2018-10-12 14:08:00 2018-10-12 14:09:30 0 days 00:01:30 1714617\n"
     ]
    },
    {
     "name": "stderr",
     "output_type": "stream",
     "text": [
      "/tmp/ipykernel_103890/3313739054.py:24: FutureWarning: DataFrame.interpolate with object dtype is deprecated and will raise in a future version. Call obj.infer_objects(copy=False) before interpolating instead.\n",
      "  data = data.interpolate(method='linear') #Built-in pandas function\n"
     ]
    },
    {
     "name": "stdout",
     "output_type": "stream",
     "text": [
      "2018-10-12 14:09:45 2018-10-12 14:11:15 0 days 00:01:30 1714624\n"
     ]
    },
    {
     "name": "stderr",
     "output_type": "stream",
     "text": [
      "/tmp/ipykernel_103890/3313739054.py:24: FutureWarning: DataFrame.interpolate with object dtype is deprecated and will raise in a future version. Call obj.infer_objects(copy=False) before interpolating instead.\n",
      "  data = data.interpolate(method='linear') #Built-in pandas function\n"
     ]
    },
    {
     "name": "stdout",
     "output_type": "stream",
     "text": [
      "2018-10-12 14:11:15 2018-10-12 14:12:45 0 days 00:01:30 1714630\n"
     ]
    },
    {
     "name": "stderr",
     "output_type": "stream",
     "text": [
      "/tmp/ipykernel_103890/3313739054.py:24: FutureWarning: DataFrame.interpolate with object dtype is deprecated and will raise in a future version. Call obj.infer_objects(copy=False) before interpolating instead.\n",
      "  data = data.interpolate(method='linear') #Built-in pandas function\n"
     ]
    },
    {
     "name": "stdout",
     "output_type": "stream",
     "text": [
      "2018-10-12 14:13:00 2018-10-12 14:14:30 0 days 00:01:30 1714637\n"
     ]
    },
    {
     "name": "stderr",
     "output_type": "stream",
     "text": [
      "/tmp/ipykernel_103890/3313739054.py:24: FutureWarning: DataFrame.interpolate with object dtype is deprecated and will raise in a future version. Call obj.infer_objects(copy=False) before interpolating instead.\n",
      "  data = data.interpolate(method='linear') #Built-in pandas function\n"
     ]
    },
    {
     "name": "stdout",
     "output_type": "stream",
     "text": [
      "2018-10-12 14:14:30 2018-10-12 14:16:00 0 days 00:01:30 1714643\n"
     ]
    },
    {
     "name": "stderr",
     "output_type": "stream",
     "text": [
      "/tmp/ipykernel_103890/3313739054.py:24: FutureWarning: DataFrame.interpolate with object dtype is deprecated and will raise in a future version. Call obj.infer_objects(copy=False) before interpolating instead.\n",
      "  data = data.interpolate(method='linear') #Built-in pandas function\n"
     ]
    },
    {
     "name": "stdout",
     "output_type": "stream",
     "text": [
      "2018-10-12 14:16:15 2018-10-12 14:17:45 0 days 00:01:30 1714650\n"
     ]
    },
    {
     "name": "stderr",
     "output_type": "stream",
     "text": [
      "/tmp/ipykernel_103890/3313739054.py:24: FutureWarning: DataFrame.interpolate with object dtype is deprecated and will raise in a future version. Call obj.infer_objects(copy=False) before interpolating instead.\n",
      "  data = data.interpolate(method='linear') #Built-in pandas function\n"
     ]
    },
    {
     "name": "stdout",
     "output_type": "stream",
     "text": [
      "2018-10-12 14:17:45 2018-10-12 14:19:15 0 days 00:01:30 1714656\n"
     ]
    },
    {
     "name": "stderr",
     "output_type": "stream",
     "text": [
      "/tmp/ipykernel_103890/3313739054.py:24: FutureWarning: DataFrame.interpolate with object dtype is deprecated and will raise in a future version. Call obj.infer_objects(copy=False) before interpolating instead.\n",
      "  data = data.interpolate(method='linear') #Built-in pandas function\n"
     ]
    },
    {
     "name": "stdout",
     "output_type": "stream",
     "text": [
      "2018-10-12 14:19:30 2018-10-12 14:21:00 0 days 00:01:30 1714663\n"
     ]
    },
    {
     "name": "stderr",
     "output_type": "stream",
     "text": [
      "/tmp/ipykernel_103890/3313739054.py:24: FutureWarning: DataFrame.interpolate with object dtype is deprecated and will raise in a future version. Call obj.infer_objects(copy=False) before interpolating instead.\n",
      "  data = data.interpolate(method='linear') #Built-in pandas function\n"
     ]
    },
    {
     "name": "stdout",
     "output_type": "stream",
     "text": [
      "2018-10-12 14:21:00 2018-10-12 14:22:30 0 days 00:01:30 1714669\n"
     ]
    },
    {
     "name": "stderr",
     "output_type": "stream",
     "text": [
      "/tmp/ipykernel_103890/3313739054.py:24: FutureWarning: DataFrame.interpolate with object dtype is deprecated and will raise in a future version. Call obj.infer_objects(copy=False) before interpolating instead.\n",
      "  data = data.interpolate(method='linear') #Built-in pandas function\n"
     ]
    },
    {
     "name": "stdout",
     "output_type": "stream",
     "text": [
      "2018-10-12 14:22:45 2018-10-12 14:24:15 0 days 00:01:30 1714676\n"
     ]
    },
    {
     "name": "stderr",
     "output_type": "stream",
     "text": [
      "/tmp/ipykernel_103890/3313739054.py:24: FutureWarning: DataFrame.interpolate with object dtype is deprecated and will raise in a future version. Call obj.infer_objects(copy=False) before interpolating instead.\n",
      "  data = data.interpolate(method='linear') #Built-in pandas function\n"
     ]
    },
    {
     "name": "stdout",
     "output_type": "stream",
     "text": [
      "2018-10-12 14:24:15 2018-10-12 14:25:45 0 days 00:01:30 1714682\n"
     ]
    },
    {
     "name": "stderr",
     "output_type": "stream",
     "text": [
      "/tmp/ipykernel_103890/3313739054.py:24: FutureWarning: DataFrame.interpolate with object dtype is deprecated and will raise in a future version. Call obj.infer_objects(copy=False) before interpolating instead.\n",
      "  data = data.interpolate(method='linear') #Built-in pandas function\n"
     ]
    },
    {
     "name": "stdout",
     "output_type": "stream",
     "text": [
      "2018-10-12 14:26:00 2018-10-12 14:27:15 0 days 00:01:15 1714689\n"
     ]
    },
    {
     "name": "stderr",
     "output_type": "stream",
     "text": [
      "/tmp/ipykernel_103890/3313739054.py:24: FutureWarning: DataFrame.interpolate with object dtype is deprecated and will raise in a future version. Call obj.infer_objects(copy=False) before interpolating instead.\n",
      "  data = data.interpolate(method='linear') #Built-in pandas function\n"
     ]
    },
    {
     "name": "stdout",
     "output_type": "stream",
     "text": [
      "2018-10-12 14:27:30 2018-10-12 14:29:00 0 days 00:01:30 1714695\n"
     ]
    },
    {
     "name": "stderr",
     "output_type": "stream",
     "text": [
      "/tmp/ipykernel_103890/3313739054.py:24: FutureWarning: DataFrame.interpolate with object dtype is deprecated and will raise in a future version. Call obj.infer_objects(copy=False) before interpolating instead.\n",
      "  data = data.interpolate(method='linear') #Built-in pandas function\n"
     ]
    },
    {
     "name": "stdout",
     "output_type": "stream",
     "text": [
      "2018-10-12 14:29:00 2018-10-12 14:30:30 0 days 00:01:30 1714701\n"
     ]
    },
    {
     "name": "stderr",
     "output_type": "stream",
     "text": [
      "/tmp/ipykernel_103890/3313739054.py:24: FutureWarning: DataFrame.interpolate with object dtype is deprecated and will raise in a future version. Call obj.infer_objects(copy=False) before interpolating instead.\n",
      "  data = data.interpolate(method='linear') #Built-in pandas function\n"
     ]
    },
    {
     "name": "stdout",
     "output_type": "stream",
     "text": [
      "2018-10-12 14:30:30 2018-10-12 14:32:00 0 days 00:01:30 1714707\n"
     ]
    },
    {
     "name": "stderr",
     "output_type": "stream",
     "text": [
      "/tmp/ipykernel_103890/3313739054.py:24: FutureWarning: DataFrame.interpolate with object dtype is deprecated and will raise in a future version. Call obj.infer_objects(copy=False) before interpolating instead.\n",
      "  data = data.interpolate(method='linear') #Built-in pandas function\n"
     ]
    },
    {
     "name": "stdout",
     "output_type": "stream",
     "text": [
      "2018-10-12 14:32:15 2018-10-12 14:33:30 0 days 00:01:15 1714714\n"
     ]
    },
    {
     "name": "stderr",
     "output_type": "stream",
     "text": [
      "/tmp/ipykernel_103890/3313739054.py:24: FutureWarning: DataFrame.interpolate with object dtype is deprecated and will raise in a future version. Call obj.infer_objects(copy=False) before interpolating instead.\n",
      "  data = data.interpolate(method='linear') #Built-in pandas function\n"
     ]
    },
    {
     "name": "stdout",
     "output_type": "stream",
     "text": [
      "2018-10-12 14:33:45 2018-10-12 14:35:15 0 days 00:01:30 1714720\n"
     ]
    },
    {
     "name": "stderr",
     "output_type": "stream",
     "text": [
      "/tmp/ipykernel_103890/3313739054.py:24: FutureWarning: DataFrame.interpolate with object dtype is deprecated and will raise in a future version. Call obj.infer_objects(copy=False) before interpolating instead.\n",
      "  data = data.interpolate(method='linear') #Built-in pandas function\n"
     ]
    },
    {
     "name": "stdout",
     "output_type": "stream",
     "text": [
      "2018-10-12 14:35:15 2018-10-12 14:36:30 0 days 00:01:15 1714726\n"
     ]
    },
    {
     "name": "stderr",
     "output_type": "stream",
     "text": [
      "/tmp/ipykernel_103890/3313739054.py:24: FutureWarning: DataFrame.interpolate with object dtype is deprecated and will raise in a future version. Call obj.infer_objects(copy=False) before interpolating instead.\n",
      "  data = data.interpolate(method='linear') #Built-in pandas function\n"
     ]
    },
    {
     "name": "stdout",
     "output_type": "stream",
     "text": [
      "2018-10-12 14:36:45 2018-10-12 14:38:00 0 days 00:01:15 1714732\n"
     ]
    },
    {
     "name": "stderr",
     "output_type": "stream",
     "text": [
      "/tmp/ipykernel_103890/3313739054.py:24: FutureWarning: DataFrame.interpolate with object dtype is deprecated and will raise in a future version. Call obj.infer_objects(copy=False) before interpolating instead.\n",
      "  data = data.interpolate(method='linear') #Built-in pandas function\n"
     ]
    },
    {
     "name": "stdout",
     "output_type": "stream",
     "text": [
      "2018-10-12 14:38:15 2018-10-12 14:39:45 0 days 00:01:30 1714738\n"
     ]
    },
    {
     "name": "stderr",
     "output_type": "stream",
     "text": [
      "/tmp/ipykernel_103890/3313739054.py:24: FutureWarning: DataFrame.interpolate with object dtype is deprecated and will raise in a future version. Call obj.infer_objects(copy=False) before interpolating instead.\n",
      "  data = data.interpolate(method='linear') #Built-in pandas function\n"
     ]
    },
    {
     "name": "stdout",
     "output_type": "stream",
     "text": [
      "2018-10-12 14:39:45 2018-10-12 14:41:00 0 days 00:01:15 1714744\n"
     ]
    },
    {
     "name": "stderr",
     "output_type": "stream",
     "text": [
      "/tmp/ipykernel_103890/3313739054.py:24: FutureWarning: DataFrame.interpolate with object dtype is deprecated and will raise in a future version. Call obj.infer_objects(copy=False) before interpolating instead.\n",
      "  data = data.interpolate(method='linear') #Built-in pandas function\n"
     ]
    },
    {
     "name": "stdout",
     "output_type": "stream",
     "text": [
      "2018-10-12 14:41:15 2018-10-12 14:42:30 0 days 00:01:15 1714750\n"
     ]
    },
    {
     "name": "stderr",
     "output_type": "stream",
     "text": [
      "/tmp/ipykernel_103890/3313739054.py:24: FutureWarning: DataFrame.interpolate with object dtype is deprecated and will raise in a future version. Call obj.infer_objects(copy=False) before interpolating instead.\n",
      "  data = data.interpolate(method='linear') #Built-in pandas function\n"
     ]
    },
    {
     "name": "stdout",
     "output_type": "stream",
     "text": [
      "2018-10-12 14:42:45 2018-10-12 14:44:00 0 days 00:01:15 1714756\n"
     ]
    },
    {
     "name": "stderr",
     "output_type": "stream",
     "text": [
      "/tmp/ipykernel_103890/3313739054.py:24: FutureWarning: DataFrame.interpolate with object dtype is deprecated and will raise in a future version. Call obj.infer_objects(copy=False) before interpolating instead.\n",
      "  data = data.interpolate(method='linear') #Built-in pandas function\n"
     ]
    },
    {
     "name": "stdout",
     "output_type": "stream",
     "text": [
      "2018-10-12 14:44:15 2018-10-12 14:45:45 0 days 00:01:30 1714762\n"
     ]
    },
    {
     "name": "stderr",
     "output_type": "stream",
     "text": [
      "/tmp/ipykernel_103890/3313739054.py:24: FutureWarning: DataFrame.interpolate with object dtype is deprecated and will raise in a future version. Call obj.infer_objects(copy=False) before interpolating instead.\n",
      "  data = data.interpolate(method='linear') #Built-in pandas function\n"
     ]
    },
    {
     "name": "stdout",
     "output_type": "stream",
     "text": [
      "2018-10-12 14:45:45 2018-10-12 14:47:15 0 days 00:01:30 1714768\n"
     ]
    },
    {
     "name": "stderr",
     "output_type": "stream",
     "text": [
      "/tmp/ipykernel_103890/3313739054.py:24: FutureWarning: DataFrame.interpolate with object dtype is deprecated and will raise in a future version. Call obj.infer_objects(copy=False) before interpolating instead.\n",
      "  data = data.interpolate(method='linear') #Built-in pandas function\n"
     ]
    },
    {
     "name": "stdout",
     "output_type": "stream",
     "text": [
      "2018-10-12 14:47:15 2018-10-12 14:48:45 0 days 00:01:30 1714774\n"
     ]
    },
    {
     "name": "stderr",
     "output_type": "stream",
     "text": [
      "/tmp/ipykernel_103890/3313739054.py:24: FutureWarning: DataFrame.interpolate with object dtype is deprecated and will raise in a future version. Call obj.infer_objects(copy=False) before interpolating instead.\n",
      "  data = data.interpolate(method='linear') #Built-in pandas function\n"
     ]
    },
    {
     "name": "stdout",
     "output_type": "stream",
     "text": [
      "2018-10-12 14:48:45 2018-10-12 14:50:15 0 days 00:01:30 1714780\n"
     ]
    },
    {
     "name": "stderr",
     "output_type": "stream",
     "text": [
      "/tmp/ipykernel_103890/3313739054.py:24: FutureWarning: DataFrame.interpolate with object dtype is deprecated and will raise in a future version. Call obj.infer_objects(copy=False) before interpolating instead.\n",
      "  data = data.interpolate(method='linear') #Built-in pandas function\n"
     ]
    },
    {
     "name": "stdout",
     "output_type": "stream",
     "text": [
      "2018-10-12 14:50:30 2018-10-12 14:51:45 0 days 00:01:15 1714787\n"
     ]
    },
    {
     "name": "stderr",
     "output_type": "stream",
     "text": [
      "/tmp/ipykernel_103890/3313739054.py:24: FutureWarning: DataFrame.interpolate with object dtype is deprecated and will raise in a future version. Call obj.infer_objects(copy=False) before interpolating instead.\n",
      "  data = data.interpolate(method='linear') #Built-in pandas function\n"
     ]
    },
    {
     "name": "stdout",
     "output_type": "stream",
     "text": [
      "2018-10-12 14:52:00 2018-10-12 14:53:15 0 days 00:01:15 1714793\n"
     ]
    },
    {
     "name": "stderr",
     "output_type": "stream",
     "text": [
      "/tmp/ipykernel_103890/3313739054.py:24: FutureWarning: DataFrame.interpolate with object dtype is deprecated and will raise in a future version. Call obj.infer_objects(copy=False) before interpolating instead.\n",
      "  data = data.interpolate(method='linear') #Built-in pandas function\n"
     ]
    },
    {
     "name": "stdout",
     "output_type": "stream",
     "text": [
      "2018-10-12 14:53:30 2018-10-12 14:55:00 0 days 00:01:30 1714799\n"
     ]
    },
    {
     "name": "stderr",
     "output_type": "stream",
     "text": [
      "/tmp/ipykernel_103890/3313739054.py:24: FutureWarning: DataFrame.interpolate with object dtype is deprecated and will raise in a future version. Call obj.infer_objects(copy=False) before interpolating instead.\n",
      "  data = data.interpolate(method='linear') #Built-in pandas function\n"
     ]
    },
    {
     "name": "stdout",
     "output_type": "stream",
     "text": [
      "2018-10-12 14:55:00 2018-10-12 14:56:30 0 days 00:01:30 1714805\n"
     ]
    },
    {
     "name": "stderr",
     "output_type": "stream",
     "text": [
      "/tmp/ipykernel_103890/3313739054.py:24: FutureWarning: DataFrame.interpolate with object dtype is deprecated and will raise in a future version. Call obj.infer_objects(copy=False) before interpolating instead.\n",
      "  data = data.interpolate(method='linear') #Built-in pandas function\n"
     ]
    },
    {
     "name": "stdout",
     "output_type": "stream",
     "text": [
      "2018-10-12 14:56:45 2018-10-12 14:58:15 0 days 00:01:30 1714812\n"
     ]
    },
    {
     "name": "stderr",
     "output_type": "stream",
     "text": [
      "/tmp/ipykernel_103890/3313739054.py:24: FutureWarning: DataFrame.interpolate with object dtype is deprecated and will raise in a future version. Call obj.infer_objects(copy=False) before interpolating instead.\n",
      "  data = data.interpolate(method='linear') #Built-in pandas function\n"
     ]
    },
    {
     "name": "stdout",
     "output_type": "stream",
     "text": [
      "2018-10-12 14:58:15 2018-10-12 15:00:00 0 days 00:01:45 1714818\n"
     ]
    },
    {
     "name": "stderr",
     "output_type": "stream",
     "text": [
      "/tmp/ipykernel_103890/3313739054.py:24: FutureWarning: DataFrame.interpolate with object dtype is deprecated and will raise in a future version. Call obj.infer_objects(copy=False) before interpolating instead.\n",
      "  data = data.interpolate(method='linear') #Built-in pandas function\n"
     ]
    },
    {
     "name": "stdout",
     "output_type": "stream",
     "text": [
      "2018-10-12 15:00:00 2018-10-12 15:01:15 0 days 00:01:15 1714825\n"
     ]
    },
    {
     "name": "stderr",
     "output_type": "stream",
     "text": [
      "/tmp/ipykernel_103890/3313739054.py:24: FutureWarning: DataFrame.interpolate with object dtype is deprecated and will raise in a future version. Call obj.infer_objects(copy=False) before interpolating instead.\n",
      "  data = data.interpolate(method='linear') #Built-in pandas function\n"
     ]
    },
    {
     "name": "stdout",
     "output_type": "stream",
     "text": [
      "2018-10-12 15:01:30 2018-10-12 15:03:00 0 days 00:01:30 1714831\n"
     ]
    },
    {
     "name": "stderr",
     "output_type": "stream",
     "text": [
      "/tmp/ipykernel_103890/3313739054.py:24: FutureWarning: DataFrame.interpolate with object dtype is deprecated and will raise in a future version. Call obj.infer_objects(copy=False) before interpolating instead.\n",
      "  data = data.interpolate(method='linear') #Built-in pandas function\n"
     ]
    },
    {
     "name": "stdout",
     "output_type": "stream",
     "text": [
      "2018-10-12 15:03:00 2018-10-12 15:04:30 0 days 00:01:30 1714837\n"
     ]
    },
    {
     "name": "stderr",
     "output_type": "stream",
     "text": [
      "/tmp/ipykernel_103890/3313739054.py:24: FutureWarning: DataFrame.interpolate with object dtype is deprecated and will raise in a future version. Call obj.infer_objects(copy=False) before interpolating instead.\n",
      "  data = data.interpolate(method='linear') #Built-in pandas function\n"
     ]
    },
    {
     "name": "stdout",
     "output_type": "stream",
     "text": [
      "2018-10-12 15:04:30 2018-10-12 15:06:00 0 days 00:01:30 1714843\n"
     ]
    },
    {
     "name": "stderr",
     "output_type": "stream",
     "text": [
      "/tmp/ipykernel_103890/3313739054.py:24: FutureWarning: DataFrame.interpolate with object dtype is deprecated and will raise in a future version. Call obj.infer_objects(copy=False) before interpolating instead.\n",
      "  data = data.interpolate(method='linear') #Built-in pandas function\n"
     ]
    },
    {
     "name": "stdout",
     "output_type": "stream",
     "text": [
      "2018-10-12 15:06:00 2018-10-12 15:07:15 0 days 00:01:15 1714849\n"
     ]
    },
    {
     "name": "stderr",
     "output_type": "stream",
     "text": [
      "/tmp/ipykernel_103890/3313739054.py:24: FutureWarning: DataFrame.interpolate with object dtype is deprecated and will raise in a future version. Call obj.infer_objects(copy=False) before interpolating instead.\n",
      "  data = data.interpolate(method='linear') #Built-in pandas function\n"
     ]
    },
    {
     "name": "stdout",
     "output_type": "stream",
     "text": [
      "2018-10-12 15:07:30 2018-10-12 15:08:45 0 days 00:01:15 1714855\n"
     ]
    },
    {
     "name": "stderr",
     "output_type": "stream",
     "text": [
      "/tmp/ipykernel_103890/3313739054.py:24: FutureWarning: DataFrame.interpolate with object dtype is deprecated and will raise in a future version. Call obj.infer_objects(copy=False) before interpolating instead.\n",
      "  data = data.interpolate(method='linear') #Built-in pandas function\n"
     ]
    },
    {
     "name": "stdout",
     "output_type": "stream",
     "text": [
      "2018-10-12 15:08:45 2018-10-12 15:10:00 0 days 00:01:15 1714860\n"
     ]
    },
    {
     "name": "stderr",
     "output_type": "stream",
     "text": [
      "/tmp/ipykernel_103890/3313739054.py:24: FutureWarning: DataFrame.interpolate with object dtype is deprecated and will raise in a future version. Call obj.infer_objects(copy=False) before interpolating instead.\n",
      "  data = data.interpolate(method='linear') #Built-in pandas function\n"
     ]
    },
    {
     "name": "stdout",
     "output_type": "stream",
     "text": [
      "2018-10-12 15:10:15 2018-10-12 15:11:30 0 days 00:01:15 1714866\n"
     ]
    },
    {
     "name": "stderr",
     "output_type": "stream",
     "text": [
      "/tmp/ipykernel_103890/3313739054.py:24: FutureWarning: DataFrame.interpolate with object dtype is deprecated and will raise in a future version. Call obj.infer_objects(copy=False) before interpolating instead.\n",
      "  data = data.interpolate(method='linear') #Built-in pandas function\n"
     ]
    },
    {
     "name": "stdout",
     "output_type": "stream",
     "text": [
      "2018-10-12 15:11:30 2018-10-12 15:12:45 0 days 00:01:15 1714871\n"
     ]
    },
    {
     "name": "stderr",
     "output_type": "stream",
     "text": [
      "/tmp/ipykernel_103890/3313739054.py:24: FutureWarning: DataFrame.interpolate with object dtype is deprecated and will raise in a future version. Call obj.infer_objects(copy=False) before interpolating instead.\n",
      "  data = data.interpolate(method='linear') #Built-in pandas function\n"
     ]
    },
    {
     "name": "stdout",
     "output_type": "stream",
     "text": [
      "2018-10-12 15:13:00 2018-10-12 15:14:15 0 days 00:01:15 1714877\n"
     ]
    },
    {
     "name": "stderr",
     "output_type": "stream",
     "text": [
      "/tmp/ipykernel_103890/3313739054.py:24: FutureWarning: DataFrame.interpolate with object dtype is deprecated and will raise in a future version. Call obj.infer_objects(copy=False) before interpolating instead.\n",
      "  data = data.interpolate(method='linear') #Built-in pandas function\n"
     ]
    },
    {
     "name": "stdout",
     "output_type": "stream",
     "text": [
      "2018-10-12 15:14:15 2018-10-12 15:15:30 0 days 00:01:15 1714882\n"
     ]
    },
    {
     "name": "stderr",
     "output_type": "stream",
     "text": [
      "/tmp/ipykernel_103890/3313739054.py:24: FutureWarning: DataFrame.interpolate with object dtype is deprecated and will raise in a future version. Call obj.infer_objects(copy=False) before interpolating instead.\n",
      "  data = data.interpolate(method='linear') #Built-in pandas function\n"
     ]
    },
    {
     "name": "stdout",
     "output_type": "stream",
     "text": [
      "2018-10-12 15:15:45 2018-10-12 15:16:45 0 days 00:01:00 1714888\n"
     ]
    },
    {
     "name": "stderr",
     "output_type": "stream",
     "text": [
      "/tmp/ipykernel_103890/3313739054.py:24: FutureWarning: DataFrame.interpolate with object dtype is deprecated and will raise in a future version. Call obj.infer_objects(copy=False) before interpolating instead.\n",
      "  data = data.interpolate(method='linear') #Built-in pandas function\n"
     ]
    },
    {
     "name": "stdout",
     "output_type": "stream",
     "text": [
      "2018-10-12 15:17:00 2018-10-12 15:18:00 0 days 00:01:00 1714893\n"
     ]
    },
    {
     "name": "stderr",
     "output_type": "stream",
     "text": [
      "/tmp/ipykernel_103890/3313739054.py:24: FutureWarning: DataFrame.interpolate with object dtype is deprecated and will raise in a future version. Call obj.infer_objects(copy=False) before interpolating instead.\n",
      "  data = data.interpolate(method='linear') #Built-in pandas function\n"
     ]
    },
    {
     "name": "stdout",
     "output_type": "stream",
     "text": [
      "2018-10-12 15:18:15 2018-10-12 15:19:30 0 days 00:01:15 1714898\n"
     ]
    },
    {
     "name": "stderr",
     "output_type": "stream",
     "text": [
      "/tmp/ipykernel_103890/3313739054.py:24: FutureWarning: DataFrame.interpolate with object dtype is deprecated and will raise in a future version. Call obj.infer_objects(copy=False) before interpolating instead.\n",
      "  data = data.interpolate(method='linear') #Built-in pandas function\n"
     ]
    },
    {
     "name": "stdout",
     "output_type": "stream",
     "text": [
      "2018-10-12 15:19:30 2018-10-12 15:20:45 0 days 00:01:15 1714903\n"
     ]
    },
    {
     "name": "stderr",
     "output_type": "stream",
     "text": [
      "/tmp/ipykernel_103890/3313739054.py:24: FutureWarning: DataFrame.interpolate with object dtype is deprecated and will raise in a future version. Call obj.infer_objects(copy=False) before interpolating instead.\n",
      "  data = data.interpolate(method='linear') #Built-in pandas function\n"
     ]
    },
    {
     "name": "stdout",
     "output_type": "stream",
     "text": [
      "2018-10-12 15:21:00 2018-10-12 15:22:00 0 days 00:01:00 1714909\n"
     ]
    },
    {
     "name": "stderr",
     "output_type": "stream",
     "text": [
      "/tmp/ipykernel_103890/3313739054.py:24: FutureWarning: DataFrame.interpolate with object dtype is deprecated and will raise in a future version. Call obj.infer_objects(copy=False) before interpolating instead.\n",
      "  data = data.interpolate(method='linear') #Built-in pandas function\n"
     ]
    },
    {
     "name": "stdout",
     "output_type": "stream",
     "text": [
      "2018-10-12 15:22:15 2018-10-12 15:23:30 0 days 00:01:15 1714914\n"
     ]
    },
    {
     "name": "stderr",
     "output_type": "stream",
     "text": [
      "/tmp/ipykernel_103890/3313739054.py:24: FutureWarning: DataFrame.interpolate with object dtype is deprecated and will raise in a future version. Call obj.infer_objects(copy=False) before interpolating instead.\n",
      "  data = data.interpolate(method='linear') #Built-in pandas function\n"
     ]
    },
    {
     "name": "stdout",
     "output_type": "stream",
     "text": [
      "2018-10-12 15:24:30 2018-10-12 15:25:45 0 days 00:01:15 1714923\n"
     ]
    },
    {
     "name": "stderr",
     "output_type": "stream",
     "text": [
      "/tmp/ipykernel_103890/3313739054.py:24: FutureWarning: DataFrame.interpolate with object dtype is deprecated and will raise in a future version. Call obj.infer_objects(copy=False) before interpolating instead.\n",
      "  data = data.interpolate(method='linear') #Built-in pandas function\n"
     ]
    },
    {
     "name": "stdout",
     "output_type": "stream",
     "text": [
      "2018-10-13 12:55:45 2018-10-13 12:57:45 0 days 00:02:00 1720000\n"
     ]
    },
    {
     "name": "stderr",
     "output_type": "stream",
     "text": [
      "/tmp/ipykernel_103890/3313739054.py:24: FutureWarning: DataFrame.interpolate with object dtype is deprecated and will raise in a future version. Call obj.infer_objects(copy=False) before interpolating instead.\n",
      "  data = data.interpolate(method='linear') #Built-in pandas function\n"
     ]
    },
    {
     "name": "stdout",
     "output_type": "stream",
     "text": [
      "2018-10-13 13:00:30 2018-10-13 13:02:30 0 days 00:02:00 1720011\n"
     ]
    },
    {
     "name": "stderr",
     "output_type": "stream",
     "text": [
      "/tmp/ipykernel_103890/3313739054.py:24: FutureWarning: DataFrame.interpolate with object dtype is deprecated and will raise in a future version. Call obj.infer_objects(copy=False) before interpolating instead.\n",
      "  data = data.interpolate(method='linear') #Built-in pandas function\n"
     ]
    },
    {
     "name": "stdout",
     "output_type": "stream",
     "text": [
      "2018-10-13 13:09:45 2018-10-13 13:11:45 0 days 00:02:00 1720024\n"
     ]
    },
    {
     "name": "stderr",
     "output_type": "stream",
     "text": [
      "/tmp/ipykernel_103890/3313739054.py:24: FutureWarning: DataFrame.interpolate with object dtype is deprecated and will raise in a future version. Call obj.infer_objects(copy=False) before interpolating instead.\n",
      "  data = data.interpolate(method='linear') #Built-in pandas function\n"
     ]
    },
    {
     "name": "stdout",
     "output_type": "stream",
     "text": [
      "2018-10-13 13:12:00 2018-10-13 13:14:00 0 days 00:02:00 1720033\n"
     ]
    },
    {
     "name": "stderr",
     "output_type": "stream",
     "text": [
      "/tmp/ipykernel_103890/3313739054.py:24: FutureWarning: DataFrame.interpolate with object dtype is deprecated and will raise in a future version. Call obj.infer_objects(copy=False) before interpolating instead.\n",
      "  data = data.interpolate(method='linear') #Built-in pandas function\n"
     ]
    },
    {
     "name": "stdout",
     "output_type": "stream",
     "text": [
      "2018-10-13 13:28:15 2018-10-13 13:30:15 0 days 00:02:00 1720050\n"
     ]
    },
    {
     "name": "stderr",
     "output_type": "stream",
     "text": [
      "/tmp/ipykernel_103890/3313739054.py:24: FutureWarning: DataFrame.interpolate with object dtype is deprecated and will raise in a future version. Call obj.infer_objects(copy=False) before interpolating instead.\n",
      "  data = data.interpolate(method='linear') #Built-in pandas function\n"
     ]
    },
    {
     "name": "stdout",
     "output_type": "stream",
     "text": [
      "2018-10-13 13:30:30 2018-10-13 13:32:30 0 days 00:02:00 1720059\n"
     ]
    },
    {
     "name": "stderr",
     "output_type": "stream",
     "text": [
      "/tmp/ipykernel_103890/3313739054.py:24: FutureWarning: DataFrame.interpolate with object dtype is deprecated and will raise in a future version. Call obj.infer_objects(copy=False) before interpolating instead.\n",
      "  data = data.interpolate(method='linear') #Built-in pandas function\n"
     ]
    },
    {
     "name": "stdout",
     "output_type": "stream",
     "text": [
      "2018-10-13 13:35:00 2018-10-13 13:37:00 0 days 00:02:00 1720069\n"
     ]
    },
    {
     "name": "stderr",
     "output_type": "stream",
     "text": [
      "/tmp/ipykernel_103890/3313739054.py:24: FutureWarning: DataFrame.interpolate with object dtype is deprecated and will raise in a future version. Call obj.infer_objects(copy=False) before interpolating instead.\n",
      "  data = data.interpolate(method='linear') #Built-in pandas function\n"
     ]
    },
    {
     "name": "stdout",
     "output_type": "stream",
     "text": [
      "2018-10-13 13:37:00 2018-10-13 13:39:00 0 days 00:02:00 1720077\n"
     ]
    },
    {
     "name": "stderr",
     "output_type": "stream",
     "text": [
      "/tmp/ipykernel_103890/3313739054.py:24: FutureWarning: DataFrame.interpolate with object dtype is deprecated and will raise in a future version. Call obj.infer_objects(copy=False) before interpolating instead.\n",
      "  data = data.interpolate(method='linear') #Built-in pandas function\n"
     ]
    },
    {
     "name": "stdout",
     "output_type": "stream",
     "text": [
      "2018-10-13 13:39:15 2018-10-13 13:40:45 0 days 00:01:30 1720086\n"
     ]
    },
    {
     "name": "stderr",
     "output_type": "stream",
     "text": [
      "/tmp/ipykernel_103890/3313739054.py:24: FutureWarning: DataFrame.interpolate with object dtype is deprecated and will raise in a future version. Call obj.infer_objects(copy=False) before interpolating instead.\n",
      "  data = data.interpolate(method='linear') #Built-in pandas function\n"
     ]
    },
    {
     "name": "stdout",
     "output_type": "stream",
     "text": [
      "2018-10-13 13:41:00 2018-10-13 13:42:30 0 days 00:01:30 1720093\n"
     ]
    },
    {
     "name": "stderr",
     "output_type": "stream",
     "text": [
      "/tmp/ipykernel_103890/3313739054.py:24: FutureWarning: DataFrame.interpolate with object dtype is deprecated and will raise in a future version. Call obj.infer_objects(copy=False) before interpolating instead.\n",
      "  data = data.interpolate(method='linear') #Built-in pandas function\n"
     ]
    },
    {
     "name": "stdout",
     "output_type": "stream",
     "text": [
      "2018-10-13 13:42:30 2018-10-13 13:43:45 0 days 00:01:15 1720099\n"
     ]
    },
    {
     "name": "stderr",
     "output_type": "stream",
     "text": [
      "/tmp/ipykernel_103890/3313739054.py:24: FutureWarning: DataFrame.interpolate with object dtype is deprecated and will raise in a future version. Call obj.infer_objects(copy=False) before interpolating instead.\n",
      "  data = data.interpolate(method='linear') #Built-in pandas function\n"
     ]
    },
    {
     "name": "stdout",
     "output_type": "stream",
     "text": [
      "2018-10-13 13:44:00 2018-10-13 13:45:15 0 days 00:01:15 1720105\n"
     ]
    },
    {
     "name": "stderr",
     "output_type": "stream",
     "text": [
      "/tmp/ipykernel_103890/3313739054.py:24: FutureWarning: DataFrame.interpolate with object dtype is deprecated and will raise in a future version. Call obj.infer_objects(copy=False) before interpolating instead.\n",
      "  data = data.interpolate(method='linear') #Built-in pandas function\n"
     ]
    },
    {
     "name": "stdout",
     "output_type": "stream",
     "text": [
      "2018-10-13 13:45:15 2018-10-13 13:46:30 0 days 00:01:15 1720110\n"
     ]
    },
    {
     "name": "stderr",
     "output_type": "stream",
     "text": [
      "/tmp/ipykernel_103890/3313739054.py:24: FutureWarning: DataFrame.interpolate with object dtype is deprecated and will raise in a future version. Call obj.infer_objects(copy=False) before interpolating instead.\n",
      "  data = data.interpolate(method='linear') #Built-in pandas function\n"
     ]
    },
    {
     "name": "stdout",
     "output_type": "stream",
     "text": [
      "2018-10-13 13:46:45 2018-10-13 13:48:00 0 days 00:01:15 1720116\n"
     ]
    },
    {
     "name": "stderr",
     "output_type": "stream",
     "text": [
      "/tmp/ipykernel_103890/3313739054.py:24: FutureWarning: DataFrame.interpolate with object dtype is deprecated and will raise in a future version. Call obj.infer_objects(copy=False) before interpolating instead.\n",
      "  data = data.interpolate(method='linear') #Built-in pandas function\n"
     ]
    },
    {
     "name": "stdout",
     "output_type": "stream",
     "text": [
      "2018-10-13 13:48:15 2018-10-13 13:49:30 0 days 00:01:15 1720122\n"
     ]
    },
    {
     "name": "stderr",
     "output_type": "stream",
     "text": [
      "/tmp/ipykernel_103890/3313739054.py:24: FutureWarning: DataFrame.interpolate with object dtype is deprecated and will raise in a future version. Call obj.infer_objects(copy=False) before interpolating instead.\n",
      "  data = data.interpolate(method='linear') #Built-in pandas function\n"
     ]
    },
    {
     "name": "stdout",
     "output_type": "stream",
     "text": [
      "2018-10-13 13:49:30 2018-10-13 13:50:45 0 days 00:01:15 1720127\n"
     ]
    },
    {
     "name": "stderr",
     "output_type": "stream",
     "text": [
      "/tmp/ipykernel_103890/3313739054.py:24: FutureWarning: DataFrame.interpolate with object dtype is deprecated and will raise in a future version. Call obj.infer_objects(copy=False) before interpolating instead.\n",
      "  data = data.interpolate(method='linear') #Built-in pandas function\n"
     ]
    },
    {
     "name": "stdout",
     "output_type": "stream",
     "text": [
      "2018-10-13 13:51:00 2018-10-13 13:52:00 0 days 00:01:00 1720133\n"
     ]
    },
    {
     "name": "stderr",
     "output_type": "stream",
     "text": [
      "/tmp/ipykernel_103890/3313739054.py:24: FutureWarning: DataFrame.interpolate with object dtype is deprecated and will raise in a future version. Call obj.infer_objects(copy=False) before interpolating instead.\n",
      "  data = data.interpolate(method='linear') #Built-in pandas function\n"
     ]
    },
    {
     "name": "stdout",
     "output_type": "stream",
     "text": [
      "2018-10-13 13:52:15 2018-10-13 13:53:15 0 days 00:01:00 1720138\n"
     ]
    },
    {
     "name": "stderr",
     "output_type": "stream",
     "text": [
      "/tmp/ipykernel_103890/3313739054.py:24: FutureWarning: DataFrame.interpolate with object dtype is deprecated and will raise in a future version. Call obj.infer_objects(copy=False) before interpolating instead.\n",
      "  data = data.interpolate(method='linear') #Built-in pandas function\n"
     ]
    },
    {
     "name": "stdout",
     "output_type": "stream",
     "text": [
      "2018-10-13 13:53:15 2018-10-13 13:54:30 0 days 00:01:15 1720142\n"
     ]
    },
    {
     "name": "stderr",
     "output_type": "stream",
     "text": [
      "/tmp/ipykernel_103890/3313739054.py:24: FutureWarning: DataFrame.interpolate with object dtype is deprecated and will raise in a future version. Call obj.infer_objects(copy=False) before interpolating instead.\n",
      "  data = data.interpolate(method='linear') #Built-in pandas function\n"
     ]
    },
    {
     "name": "stdout",
     "output_type": "stream",
     "text": [
      "2018-10-13 13:54:30 2018-10-13 13:55:45 0 days 00:01:15 1720147\n"
     ]
    },
    {
     "name": "stderr",
     "output_type": "stream",
     "text": [
      "/tmp/ipykernel_103890/3313739054.py:24: FutureWarning: DataFrame.interpolate with object dtype is deprecated and will raise in a future version. Call obj.infer_objects(copy=False) before interpolating instead.\n",
      "  data = data.interpolate(method='linear') #Built-in pandas function\n"
     ]
    },
    {
     "name": "stdout",
     "output_type": "stream",
     "text": [
      "2018-10-13 13:55:45 2018-10-13 13:57:00 0 days 00:01:15 1720152\n"
     ]
    },
    {
     "name": "stderr",
     "output_type": "stream",
     "text": [
      "/tmp/ipykernel_103890/3313739054.py:24: FutureWarning: DataFrame.interpolate with object dtype is deprecated and will raise in a future version. Call obj.infer_objects(copy=False) before interpolating instead.\n",
      "  data = data.interpolate(method='linear') #Built-in pandas function\n"
     ]
    },
    {
     "name": "stdout",
     "output_type": "stream",
     "text": [
      "2018-10-13 13:57:15 2018-10-13 13:58:30 0 days 00:01:15 1720158\n"
     ]
    },
    {
     "name": "stderr",
     "output_type": "stream",
     "text": [
      "/tmp/ipykernel_103890/3313739054.py:24: FutureWarning: DataFrame.interpolate with object dtype is deprecated and will raise in a future version. Call obj.infer_objects(copy=False) before interpolating instead.\n",
      "  data = data.interpolate(method='linear') #Built-in pandas function\n"
     ]
    },
    {
     "name": "stdout",
     "output_type": "stream",
     "text": [
      "2018-10-13 13:58:30 2018-10-13 13:59:45 0 days 00:01:15 1720163\n"
     ]
    },
    {
     "name": "stderr",
     "output_type": "stream",
     "text": [
      "/tmp/ipykernel_103890/3313739054.py:24: FutureWarning: DataFrame.interpolate with object dtype is deprecated and will raise in a future version. Call obj.infer_objects(copy=False) before interpolating instead.\n",
      "  data = data.interpolate(method='linear') #Built-in pandas function\n"
     ]
    },
    {
     "name": "stdout",
     "output_type": "stream",
     "text": [
      "2018-10-13 13:59:45 2018-10-13 14:00:45 0 days 00:01:00 1720168\n"
     ]
    },
    {
     "name": "stderr",
     "output_type": "stream",
     "text": [
      "/tmp/ipykernel_103890/3313739054.py:24: FutureWarning: DataFrame.interpolate with object dtype is deprecated and will raise in a future version. Call obj.infer_objects(copy=False) before interpolating instead.\n",
      "  data = data.interpolate(method='linear') #Built-in pandas function\n"
     ]
    },
    {
     "name": "stdout",
     "output_type": "stream",
     "text": [
      "2018-10-13 14:01:00 2018-10-13 14:02:00 0 days 00:01:00 1720173\n"
     ]
    },
    {
     "name": "stderr",
     "output_type": "stream",
     "text": [
      "/tmp/ipykernel_103890/3313739054.py:24: FutureWarning: DataFrame.interpolate with object dtype is deprecated and will raise in a future version. Call obj.infer_objects(copy=False) before interpolating instead.\n",
      "  data = data.interpolate(method='linear') #Built-in pandas function\n"
     ]
    },
    {
     "name": "stdout",
     "output_type": "stream",
     "text": [
      "2018-10-13 14:02:15 2018-10-13 14:03:15 0 days 00:01:00 1720178\n"
     ]
    },
    {
     "name": "stderr",
     "output_type": "stream",
     "text": [
      "/tmp/ipykernel_103890/3313739054.py:24: FutureWarning: DataFrame.interpolate with object dtype is deprecated and will raise in a future version. Call obj.infer_objects(copy=False) before interpolating instead.\n",
      "  data = data.interpolate(method='linear') #Built-in pandas function\n"
     ]
    },
    {
     "name": "stdout",
     "output_type": "stream",
     "text": [
      "2018-10-13 14:03:30 2018-10-13 14:04:45 0 days 00:01:15 1720183\n"
     ]
    },
    {
     "name": "stderr",
     "output_type": "stream",
     "text": [
      "/tmp/ipykernel_103890/3313739054.py:24: FutureWarning: DataFrame.interpolate with object dtype is deprecated and will raise in a future version. Call obj.infer_objects(copy=False) before interpolating instead.\n",
      "  data = data.interpolate(method='linear') #Built-in pandas function\n"
     ]
    },
    {
     "name": "stdout",
     "output_type": "stream",
     "text": [
      "2018-10-13 14:04:45 2018-10-13 14:06:00 0 days 00:01:15 1720188\n"
     ]
    },
    {
     "name": "stderr",
     "output_type": "stream",
     "text": [
      "/tmp/ipykernel_103890/3313739054.py:24: FutureWarning: DataFrame.interpolate with object dtype is deprecated and will raise in a future version. Call obj.infer_objects(copy=False) before interpolating instead.\n",
      "  data = data.interpolate(method='linear') #Built-in pandas function\n"
     ]
    },
    {
     "name": "stdout",
     "output_type": "stream",
     "text": [
      "2018-10-13 14:06:15 2018-10-13 14:07:15 0 days 00:01:00 1720194\n"
     ]
    },
    {
     "name": "stderr",
     "output_type": "stream",
     "text": [
      "/tmp/ipykernel_103890/3313739054.py:24: FutureWarning: DataFrame.interpolate with object dtype is deprecated and will raise in a future version. Call obj.infer_objects(copy=False) before interpolating instead.\n",
      "  data = data.interpolate(method='linear') #Built-in pandas function\n"
     ]
    },
    {
     "name": "stdout",
     "output_type": "stream",
     "text": [
      "2018-10-13 14:07:30 2018-10-13 14:08:45 0 days 00:01:15 1720199\n"
     ]
    },
    {
     "name": "stderr",
     "output_type": "stream",
     "text": [
      "/tmp/ipykernel_103890/3313739054.py:24: FutureWarning: DataFrame.interpolate with object dtype is deprecated and will raise in a future version. Call obj.infer_objects(copy=False) before interpolating instead.\n",
      "  data = data.interpolate(method='linear') #Built-in pandas function\n"
     ]
    },
    {
     "name": "stdout",
     "output_type": "stream",
     "text": [
      "2018-10-13 14:09:00 2018-10-13 14:10:00 0 days 00:01:00 1720205\n"
     ]
    },
    {
     "name": "stderr",
     "output_type": "stream",
     "text": [
      "/tmp/ipykernel_103890/3313739054.py:24: FutureWarning: DataFrame.interpolate with object dtype is deprecated and will raise in a future version. Call obj.infer_objects(copy=False) before interpolating instead.\n",
      "  data = data.interpolate(method='linear') #Built-in pandas function\n"
     ]
    },
    {
     "name": "stdout",
     "output_type": "stream",
     "text": [
      "2018-10-13 14:10:15 2018-10-13 14:11:30 0 days 00:01:15 1720210\n"
     ]
    },
    {
     "name": "stderr",
     "output_type": "stream",
     "text": [
      "/tmp/ipykernel_103890/3313739054.py:24: FutureWarning: DataFrame.interpolate with object dtype is deprecated and will raise in a future version. Call obj.infer_objects(copy=False) before interpolating instead.\n",
      "  data = data.interpolate(method='linear') #Built-in pandas function\n"
     ]
    },
    {
     "name": "stdout",
     "output_type": "stream",
     "text": [
      "2018-10-13 14:11:30 2018-10-13 14:12:45 0 days 00:01:15 1720215\n"
     ]
    },
    {
     "name": "stderr",
     "output_type": "stream",
     "text": [
      "/tmp/ipykernel_103890/3313739054.py:24: FutureWarning: DataFrame.interpolate with object dtype is deprecated and will raise in a future version. Call obj.infer_objects(copy=False) before interpolating instead.\n",
      "  data = data.interpolate(method='linear') #Built-in pandas function\n"
     ]
    },
    {
     "name": "stdout",
     "output_type": "stream",
     "text": [
      "2018-10-13 14:13:00 2018-10-13 14:14:00 0 days 00:01:00 1720221\n"
     ]
    },
    {
     "name": "stderr",
     "output_type": "stream",
     "text": [
      "/tmp/ipykernel_103890/3313739054.py:24: FutureWarning: DataFrame.interpolate with object dtype is deprecated and will raise in a future version. Call obj.infer_objects(copy=False) before interpolating instead.\n",
      "  data = data.interpolate(method='linear') #Built-in pandas function\n"
     ]
    },
    {
     "name": "stdout",
     "output_type": "stream",
     "text": [
      "2018-10-13 14:14:15 2018-10-13 14:15:30 0 days 00:01:15 1720226\n"
     ]
    },
    {
     "name": "stderr",
     "output_type": "stream",
     "text": [
      "/tmp/ipykernel_103890/3313739054.py:24: FutureWarning: DataFrame.interpolate with object dtype is deprecated and will raise in a future version. Call obj.infer_objects(copy=False) before interpolating instead.\n",
      "  data = data.interpolate(method='linear') #Built-in pandas function\n"
     ]
    },
    {
     "name": "stdout",
     "output_type": "stream",
     "text": [
      "2018-10-13 14:15:30 2018-10-13 14:16:30 0 days 00:01:00 1720231\n"
     ]
    },
    {
     "name": "stderr",
     "output_type": "stream",
     "text": [
      "/tmp/ipykernel_103890/3313739054.py:24: FutureWarning: DataFrame.interpolate with object dtype is deprecated and will raise in a future version. Call obj.infer_objects(copy=False) before interpolating instead.\n",
      "  data = data.interpolate(method='linear') #Built-in pandas function\n"
     ]
    },
    {
     "name": "stdout",
     "output_type": "stream",
     "text": [
      "2018-10-13 14:16:45 2018-10-13 14:17:45 0 days 00:01:00 1720236\n"
     ]
    },
    {
     "name": "stderr",
     "output_type": "stream",
     "text": [
      "/tmp/ipykernel_103890/3313739054.py:24: FutureWarning: DataFrame.interpolate with object dtype is deprecated and will raise in a future version. Call obj.infer_objects(copy=False) before interpolating instead.\n",
      "  data = data.interpolate(method='linear') #Built-in pandas function\n"
     ]
    },
    {
     "name": "stdout",
     "output_type": "stream",
     "text": [
      "2018-10-13 14:17:45 2018-10-13 14:19:00 0 days 00:01:15 1720240\n"
     ]
    },
    {
     "name": "stderr",
     "output_type": "stream",
     "text": [
      "/tmp/ipykernel_103890/3313739054.py:24: FutureWarning: DataFrame.interpolate with object dtype is deprecated and will raise in a future version. Call obj.infer_objects(copy=False) before interpolating instead.\n",
      "  data = data.interpolate(method='linear') #Built-in pandas function\n"
     ]
    }
   ],
   "source": [
    "# Main\n",
    "\n",
    "# This cell takes several minutes to run, depending on how many stations and the\n",
    "# amount of data at each station. Extracts and interpolates the data, then saves\n",
    "# to a pickle file\n",
    "\n",
    "##### CHANGE DIRECTORY #######\n",
    "##############################\n",
    "\n",
    "# dir = '/mnt/d/csrs_2024/lissard'\n",
    "# dir = '/mnt/d/csrs_2024/rages'\n",
    "# dir = '/mnt/d/csrs_2024/combined'\n",
    "dir = \"/mnt/d/csrs_2024/all\"\n",
    "\n",
    "# dir = '/mnt/d/data/gps/proc/csrs/lissard'\n",
    "# dir = '/mnt/d/data/gps/proc/csrs/rages'\n",
    "\n",
    "##############################\n",
    "##### CHANGE DIRECTORY #######\n",
    "\n",
    "# Loop over all stations\n",
    "for sta in os.scandir(dir):\n",
    "    if sta.is_dir():\n",
    "        # List of Stations with data not in 15 sec increments\n",
    "        # la02 | 2008 - 7 JAN 2014 (la020070) 30 sec\n",
    "        # slw1 | 2009 - 2010 02 sec Currently Ignored in processing\n",
    "\n",
    "        # la14 | 2017? 30 sec\n",
    "        # la09 | 2010 - 5 FEB 2010 (la090310) 30 sec\n",
    "\n",
    "        # whl02,03,07,09,11 only in xyzt format and no rinex\n",
    "\n",
    "        # OLD NOTES\n",
    "        # la02 Starts with 30 sec increments, later has 01 second increments.\n",
    "        # la09 30 second increments for first 17 days\n",
    "        # la14 30 second increments where?\n",
    "        # whl02,03,07,09,11 only in xyzt format\n",
    "        # slw1 30 second increments in 2010, 2\n",
    "\n",
    "        # Must manually Change toRun and years\n",
    "        ##### CHANGE STATIONS AND YEAR  #######\n",
    "        #######################################\n",
    "\n",
    "        # Doesn't include slw1, la02, whlXX\n",
    "        # 'la08', 'gz19', 'la16', 'mg04'\n",
    "        toRun = [\n",
    "            \"la01\",\n",
    "            \"la02\",\n",
    "            \"la03\",\n",
    "            \"la04\",\n",
    "            \"la05\",\n",
    "            \"la06\",\n",
    "            \"la07\",\n",
    "            \"la09\",\n",
    "            \"la10\",\n",
    "            \"la11\",\n",
    "            \"la12\",\n",
    "            \"la13\",\n",
    "            \"la14\",\n",
    "            \"la15\",\n",
    "            \"ws04\",\n",
    "            \"ws05\",\n",
    "            \"gz01\",\n",
    "            \"gz02\",\n",
    "            \"gz03\",\n",
    "            \"gz04\",\n",
    "            \"gz05\",\n",
    "            \"gz06\",\n",
    "            \"gz07\",\n",
    "            \"gz08\",\n",
    "            \"gz09\",\n",
    "            \"gz10\",\n",
    "            \"gz11\",\n",
    "            \"gz12\",\n",
    "            \"gz13\",\n",
    "            \"gz14\",\n",
    "            \"gz15\",\n",
    "            \"gz16\",\n",
    "            \"gz17\",\n",
    "            \"gz18\",\n",
    "            \"mg01\",\n",
    "            \"mg02\",\n",
    "            \"mg03\",\n",
    "            \"mg05\",\n",
    "            \"mg06\",\n",
    "            \"mg07\",\n",
    "        ]\n",
    "\n",
    "        # toRun = ['gz01','gz02','gz03','gz04','gz05','gz06','gz07','gz08','gz09','gz10','gz11','gz12','gz13','gz14', \\\n",
    "        #    'gz15','gz16','gz17','gz18','gz19','mg01','mg02','mg03','mg04','mg05','mg06','mg07']\n",
    "        # toRun = ['mt04','ww01','ww02','ww03','ww04','ww05','ww06','ww07','ww08','ww09','ww10','ww11']\n",
    "        # toRun = ['la01','la03','la04','la05','la06','la07','la08','la10','la11','la12','la13','la14','la15','la16', \\\n",
    "        #   'la17','la18', 'ws04','ws05']\n",
    "        # toRun= ['gz20','la02','la09','la14','la17','la18']\n",
    "\n",
    "        toRun = [\"la14\"]\n",
    "\n",
    "        interpolation_time = 15\n",
    "\n",
    "        years = [\"2016\", \"2017\", \"2018\", \"2019\"]\n",
    "        yearstr = \"2016_2019\"\n",
    "\n",
    "        ######################################\n",
    "        ##### CHANGE STATIONS AND YEAR #######\n",
    "        # print(sta.name)\n",
    "        if sta.name in toRun:\n",
    "            print(sta.name, sta.path)\n",
    "            stream = datastream(sta, years)  # Load data\n",
    "            if (\n",
    "                not stream.empty\n",
    "            ):  # Pass if no data for that station during years selected\n",
    "                stream = stream.sort_values(by=\"time\")  # Ensure sorted\n",
    "                interpolated, starts, ends, gaps = findgaps(\n",
    "                    stream, interpolation_time\n",
    "                )  # Interpolate Data\n",
    "                obj = GPS_data(\n",
    "                    starts, ends, gaps, interpolated, sta.name, interpolation_time\n",
    "                )  # Make Object\n",
    "                with open(\n",
    "                    yearstr + sta.name + \".pkl\", \"wb\"\n",
    "                ) as file:  # Save to Pickle File\n",
    "                    pickle.dump(obj, file)"
   ]
  },
  {
   "cell_type": "code",
   "execution_count": 11,
   "id": "0d6661b9",
   "metadata": {},
   "outputs": [
    {
     "ename": "FileNotFoundError",
     "evalue": "[Errno 2] No such file or directory: '../../../Research/Catalog/Pickle2013_2014/2013_2014gz18.pkl'",
     "output_type": "error",
     "traceback": [
      "\u001b[0;31m---------------------------------------------------------------------------\u001b[0m",
      "\u001b[0;31mFileNotFoundError\u001b[0m                         Traceback (most recent call last)",
      "Cell \u001b[0;32mIn[11], line 2\u001b[0m\n\u001b[1;32m      1\u001b[0m \u001b[38;5;66;03m# Example load of saved pickle file\u001b[39;00m\n\u001b[0;32m----> 2\u001b[0m \u001b[38;5;28;01mwith\u001b[39;00m \u001b[38;5;28;43mopen\u001b[39;49m\u001b[43m(\u001b[49m\u001b[38;5;124;43m\"\u001b[39;49m\u001b[38;5;124;43m../../../Research/Catalog/Pickle2013_2014/2013_2014gz18.pkl\u001b[39;49m\u001b[38;5;124;43m\"\u001b[39;49m\u001b[43m,\u001b[49m\u001b[43m \u001b[49m\u001b[38;5;124;43m\"\u001b[39;49m\u001b[38;5;124;43mrb\u001b[39;49m\u001b[38;5;124;43m\"\u001b[39;49m\u001b[43m)\u001b[49m \u001b[38;5;28;01mas\u001b[39;00m file:  \u001b[38;5;66;03m# Load Pickle File\u001b[39;00m\n\u001b[1;32m      3\u001b[0m     data \u001b[38;5;241m=\u001b[39m pickle\u001b[38;5;241m.\u001b[39mload(file)\n\u001b[1;32m      4\u001b[0m \u001b[38;5;66;03m# print(data.data[:600000])\u001b[39;00m\n",
      "File \u001b[0;32m~/miniconda3/envs/gps/lib/python3.11/site-packages/IPython/core/interactiveshell.py:324\u001b[0m, in \u001b[0;36m_modified_open\u001b[0;34m(file, *args, **kwargs)\u001b[0m\n\u001b[1;32m    317\u001b[0m \u001b[38;5;28;01mif\u001b[39;00m file \u001b[38;5;129;01min\u001b[39;00m {\u001b[38;5;241m0\u001b[39m, \u001b[38;5;241m1\u001b[39m, \u001b[38;5;241m2\u001b[39m}:\n\u001b[1;32m    318\u001b[0m     \u001b[38;5;28;01mraise\u001b[39;00m \u001b[38;5;167;01mValueError\u001b[39;00m(\n\u001b[1;32m    319\u001b[0m         \u001b[38;5;124mf\u001b[39m\u001b[38;5;124m\"\u001b[39m\u001b[38;5;124mIPython won\u001b[39m\u001b[38;5;124m'\u001b[39m\u001b[38;5;124mt let you open fd=\u001b[39m\u001b[38;5;132;01m{\u001b[39;00mfile\u001b[38;5;132;01m}\u001b[39;00m\u001b[38;5;124m by default \u001b[39m\u001b[38;5;124m\"\u001b[39m\n\u001b[1;32m    320\u001b[0m         \u001b[38;5;124m\"\u001b[39m\u001b[38;5;124mas it is likely to crash IPython. If you know what you are doing, \u001b[39m\u001b[38;5;124m\"\u001b[39m\n\u001b[1;32m    321\u001b[0m         \u001b[38;5;124m\"\u001b[39m\u001b[38;5;124myou can use builtins\u001b[39m\u001b[38;5;124m'\u001b[39m\u001b[38;5;124m open.\u001b[39m\u001b[38;5;124m\"\u001b[39m\n\u001b[1;32m    322\u001b[0m     )\n\u001b[0;32m--> 324\u001b[0m \u001b[38;5;28;01mreturn\u001b[39;00m \u001b[43mio_open\u001b[49m\u001b[43m(\u001b[49m\u001b[43mfile\u001b[49m\u001b[43m,\u001b[49m\u001b[43m \u001b[49m\u001b[38;5;241;43m*\u001b[39;49m\u001b[43margs\u001b[49m\u001b[43m,\u001b[49m\u001b[43m \u001b[49m\u001b[38;5;241;43m*\u001b[39;49m\u001b[38;5;241;43m*\u001b[39;49m\u001b[43mkwargs\u001b[49m\u001b[43m)\u001b[49m\n",
      "\u001b[0;31mFileNotFoundError\u001b[0m: [Errno 2] No such file or directory: '../../../Research/Catalog/Pickle2013_2014/2013_2014gz18.pkl'"
     ]
    }
   ],
   "source": [
    "# Example load of saved pickle file\n",
    "with open(\n",
    "    \"../../../Research/Catalog/Pickle2013_2014/2013_2014gz18.pkl\", \"rb\"\n",
    ") as file:  # Load Pickle File\n",
    "    data = pickle.load(file)\n",
    "# print(data.data[:600000])\n",
    "print(data)\n",
    "tes = data.data.sort_values(by=\"time\")\n",
    "print(tes)"
   ]
  },
  {
   "cell_type": "code",
   "execution_count": null,
   "id": "01e2dc20",
   "metadata": {},
   "outputs": [],
   "source": []
  },
  {
   "cell_type": "code",
   "execution_count": 56,
   "id": "2e7002b2",
   "metadata": {},
   "outputs": [
    {
     "data": {
      "text/plain": [
       "[<matplotlib.lines.Line2D at 0x7f5549e28a90>]"
      ]
     },
     "execution_count": 56,
     "metadata": {},
     "output_type": "execute_result"
    },
    {
     "data": {
      "image/png": "[encoded data removed]",
      "text/plain": [
       "<Figure size 640x480 with 1 Axes>"
      ]
     },
     "metadata": {},
     "output_type": "display_data"
    }
   ],
   "source": [
    "s = 160000\n",
    "e = 180000\n",
    "plt.plot(data.data[\"time\"][s:e], data.data[\"x\"][s:e])"
   ]
  }
 ],
 "metadata": {
  "kernelspec": {
   "display_name": "base",
   "language": "python",
   "name": "python3"
  },
  "language_info": {
   "codemirror_mode": {
    "name": "ipython",
    "version": 3
   },
   "file_extension": ".py",
   "mimetype": "text/x-python",
   "name": "python",
   "nbconvert_exporter": "python",
   "pygments_lexer": "ipython3",
   "version": "3.11.9"
  }
 },
 "nbformat": 4,
 "nbformat_minor": 5
}
