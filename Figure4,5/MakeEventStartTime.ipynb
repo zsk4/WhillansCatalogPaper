{
 "cells": [
  {
   "cell_type": "code",
   "execution_count": 1,
   "id": "ed16f904",
   "metadata": {},
   "outputs": [],
   "source": [
    "# Zachary Katz\n",
    "# zachary_katz@mines.edu\n",
    "# 16 April 2024\n",
    "\n",
    "# Load all events and pick event start and end times\n",
    "# Try classifying via k-means\n",
    "\n",
    "# Imports\n",
    "import os\n",
    "\n",
    "\n",
    "import pandas as pd\n",
    "import numpy as np\n",
    "import scipy"
   ]
  },
  {
   "cell_type": "code",
   "execution_count": 2,
   "id": "1851bfaf",
   "metadata": {},
   "outputs": [],
   "source": [
    "# Load events into dataframe\n",
    "data = {\"event\": [], \"trace_time\": []}\n",
    "folders = [\n",
    "    \"2007_2009Events\",\n",
    "    \"2010_2011Events\",\n",
    "    \"2012_2013Events\",\n",
    "    \"2014_2015Events\",\n",
    "    \"2016_2019Events\",\n",
    "]\n",
    "for folder in folders:\n",
    "    for file in os.listdir(folder):\n",
    "        df = pd.read_csv(f\"{folder}/{file}\", sep=\"\\t\")\n",
    "        data[\"event\"].append(df)\n",
    "        data[\"trace_time\"].append(file[:-4])"
   ]
  },
  {
   "cell_type": "code",
   "execution_count": 3,
   "id": "21c4e7c4",
   "metadata": {},
   "outputs": [],
   "source": [
    "def derivative(time, x_col, order, crit, spacing):\n",
    "    \"\"\"\n",
    "    Compute the first and second derivative of a smoothed time series\n",
    "    Parameters\n",
    "    time - event with times\n",
    "    x_col - column of x values of which to take the derivative of\n",
    "    order - order of butterworth filter\n",
    "    crit - critical value of butterworth filter\n",
    "    spacing - spacing of gradient\n",
    "    Returns\n",
    "    grad2 - Second derivative [list]\n",
    "    \"\"\"\n",
    "\n",
    "    y_data = x_col - np.mean(x_col)\n",
    "\n",
    "    # 1st derivative\n",
    "    b, a = scipy.signal.butter(order, crit)\n",
    "    filtered = scipy.signal.filtfilt(b, a, y_data, padlen=50)\n",
    "    grad = np.gradient(filtered, spacing)\n",
    "    return grad\n",
    "\n",
    "\n",
    "def derivative2(time, grad, order, crit, spacing):\n",
    "    # 2nd derivative\n",
    "    b, a = scipy.signal.butter(order, crit)\n",
    "    grad_filtered = scipy.signal.filtfilt(b, a, grad, padlen=50)\n",
    "    grad2 = np.gradient(grad_filtered, spacing)\n",
    "\n",
    "    return grad2"
   ]
  },
  {
   "cell_type": "code",
   "execution_count": 4,
   "id": "621403ca",
   "metadata": {},
   "outputs": [
    {
     "ename": "KeyboardInterrupt",
     "evalue": "",
     "output_type": "error",
     "traceback": [
      "\u001b[0;31m---------------------------------------------------------------------------\u001b[0m",
      "\u001b[0;31mKeyboardInterrupt\u001b[0m                         Traceback (most recent call last)",
      "Cell \u001b[0;32mIn[4], line 8\u001b[0m\n\u001b[1;32m      6\u001b[0m \u001b[38;5;66;03m#print(len(event['time']),event['time'][0])\u001b[39;00m\n\u001b[1;32m      7\u001b[0m \u001b[38;5;28;01mfor\u001b[39;00m x_col \u001b[38;5;129;01min\u001b[39;00m x_cols:\n\u001b[0;32m----> 8\u001b[0m     grad \u001b[38;5;241m=\u001b[39m \u001b[43mderivative\u001b[49m\u001b[43m(\u001b[49m\u001b[43mevent\u001b[49m\u001b[43m[\u001b[49m\u001b[38;5;124;43m'\u001b[39;49m\u001b[38;5;124;43mtime\u001b[39;49m\u001b[38;5;124;43m'\u001b[39;49m\u001b[43m]\u001b[49m\u001b[43m,\u001b[49m\u001b[43m \u001b[49m\u001b[43mevent\u001b[49m\u001b[43m[\u001b[49m\u001b[43mx_col\u001b[49m\u001b[43m]\u001b[49m\u001b[43m,\u001b[49m\u001b[43m \u001b[49m\u001b[38;5;241;43m4\u001b[39;49m\u001b[43m,\u001b[49m\u001b[43m \u001b[49m\u001b[38;5;241;43m0.1\u001b[39;49m\u001b[43m,\u001b[49m\u001b[43m \u001b[49m\u001b[38;5;241;43m15\u001b[39;49m\u001b[43m)\u001b[49m\n\u001b[1;32m      9\u001b[0m     grad2 \u001b[38;5;241m=\u001b[39m derivative(event[\u001b[38;5;124m'\u001b[39m\u001b[38;5;124mtime\u001b[39m\u001b[38;5;124m'\u001b[39m], grad, \u001b[38;5;241m4\u001b[39m, \u001b[38;5;241m0.05\u001b[39m, \u001b[38;5;241m15\u001b[39m)\n\u001b[1;32m     10\u001b[0m     grad2s\u001b[38;5;241m.\u001b[39mappend(grad2)\n",
      "Cell \u001b[0;32mIn[3], line 19\u001b[0m, in \u001b[0;36mderivative\u001b[0;34m(time, x_col, order, crit, spacing)\u001b[0m\n\u001b[1;32m     17\u001b[0m \u001b[38;5;66;03m# 1st derivative\u001b[39;00m\n\u001b[1;32m     18\u001b[0m b, a \u001b[38;5;241m=\u001b[39m scipy\u001b[38;5;241m.\u001b[39msignal\u001b[38;5;241m.\u001b[39mbutter(order, crit)\n\u001b[0;32m---> 19\u001b[0m filtered \u001b[38;5;241m=\u001b[39m \u001b[43mscipy\u001b[49m\u001b[38;5;241;43m.\u001b[39;49m\u001b[43msignal\u001b[49m\u001b[38;5;241;43m.\u001b[39;49m\u001b[43mfiltfilt\u001b[49m\u001b[43m(\u001b[49m\u001b[43mb\u001b[49m\u001b[43m,\u001b[49m\u001b[43m \u001b[49m\u001b[43ma\u001b[49m\u001b[43m,\u001b[49m\u001b[43m \u001b[49m\u001b[43my_data\u001b[49m\u001b[43m,\u001b[49m\u001b[43m \u001b[49m\u001b[43mpadlen\u001b[49m\u001b[38;5;241;43m=\u001b[39;49m\u001b[38;5;241;43m50\u001b[39;49m\u001b[43m)\u001b[49m\n\u001b[1;32m     20\u001b[0m grad \u001b[38;5;241m=\u001b[39m np\u001b[38;5;241m.\u001b[39mgradient(filtered,spacing)\n\u001b[1;32m     21\u001b[0m \u001b[38;5;28;01mreturn\u001b[39;00m grad\n",
      "File \u001b[0;32m~/miniconda3/envs/gps/lib/python3.11/site-packages/scipy/signal/_signaltools.py:4163\u001b[0m, in \u001b[0;36mfiltfilt\u001b[0;34m(b, a, x, axis, padtype, padlen, method, irlen)\u001b[0m\n\u001b[1;32m   4159\u001b[0m edge, ext \u001b[38;5;241m=\u001b[39m _validate_pad(padtype, padlen, x, axis,\n\u001b[1;32m   4160\u001b[0m                           ntaps\u001b[38;5;241m=\u001b[39m\u001b[38;5;28mmax\u001b[39m(\u001b[38;5;28mlen\u001b[39m(a), \u001b[38;5;28mlen\u001b[39m(b)))\n\u001b[1;32m   4162\u001b[0m \u001b[38;5;66;03m# Get the steady state of the filter's step response.\u001b[39;00m\n\u001b[0;32m-> 4163\u001b[0m zi \u001b[38;5;241m=\u001b[39m \u001b[43mlfilter_zi\u001b[49m\u001b[43m(\u001b[49m\u001b[43mb\u001b[49m\u001b[43m,\u001b[49m\u001b[43m \u001b[49m\u001b[43ma\u001b[49m\u001b[43m)\u001b[49m\n\u001b[1;32m   4165\u001b[0m \u001b[38;5;66;03m# Reshape zi and create x0 so that zi*x0 broadcasts\u001b[39;00m\n\u001b[1;32m   4166\u001b[0m \u001b[38;5;66;03m# to the correct value for the 'zi' keyword argument\u001b[39;00m\n\u001b[1;32m   4167\u001b[0m \u001b[38;5;66;03m# to lfilter.\u001b[39;00m\n\u001b[1;32m   4168\u001b[0m zi_shape \u001b[38;5;241m=\u001b[39m [\u001b[38;5;241m1\u001b[39m] \u001b[38;5;241m*\u001b[39m x\u001b[38;5;241m.\u001b[39mndim\n",
      "File \u001b[0;32m~/miniconda3/envs/gps/lib/python3.11/site-packages/scipy/signal/_signaltools.py:3717\u001b[0m, in \u001b[0;36mlfilter_zi\u001b[0;34m(b, a)\u001b[0m\n\u001b[1;32m   3715\u001b[0m B \u001b[38;5;241m=\u001b[39m b[\u001b[38;5;241m1\u001b[39m:] \u001b[38;5;241m-\u001b[39m a[\u001b[38;5;241m1\u001b[39m:] \u001b[38;5;241m*\u001b[39m b[\u001b[38;5;241m0\u001b[39m]\n\u001b[1;32m   3716\u001b[0m \u001b[38;5;66;03m# Solve zi = A*zi + B\u001b[39;00m\n\u001b[0;32m-> 3717\u001b[0m zi \u001b[38;5;241m=\u001b[39m \u001b[43mnp\u001b[49m\u001b[38;5;241;43m.\u001b[39;49m\u001b[43mlinalg\u001b[49m\u001b[38;5;241;43m.\u001b[39;49m\u001b[43msolve\u001b[49m\u001b[43m(\u001b[49m\u001b[43mIminusA\u001b[49m\u001b[43m,\u001b[49m\u001b[43m \u001b[49m\u001b[43mB\u001b[49m\u001b[43m)\u001b[49m\n\u001b[1;32m   3719\u001b[0m \u001b[38;5;66;03m# For future reference: we could also use the following\u001b[39;00m\n\u001b[1;32m   3720\u001b[0m \u001b[38;5;66;03m# explicit formulas to solve the linear system:\u001b[39;00m\n\u001b[1;32m   3721\u001b[0m \u001b[38;5;66;03m#\u001b[39;00m\n\u001b[0;32m   (...)\u001b[0m\n\u001b[1;32m   3728\u001b[0m \u001b[38;5;66;03m#     csum += b[k] - a[k]*b[0]\u001b[39;00m\n\u001b[1;32m   3729\u001b[0m \u001b[38;5;66;03m#     zi[k] = asum*zi[0] - csum\u001b[39;00m\n\u001b[1;32m   3731\u001b[0m \u001b[38;5;28;01mreturn\u001b[39;00m zi\n",
      "File \u001b[0;32m~/miniconda3/envs/gps/lib/python3.11/site-packages/numpy/linalg/linalg.py:325\u001b[0m, in \u001b[0;36m_solve_dispatcher\u001b[0;34m(a, b)\u001b[0m\n\u001b[1;32m    321\u001b[0m     res\u001b[38;5;241m.\u001b[39mshape \u001b[38;5;241m=\u001b[39m oldshape\n\u001b[1;32m    322\u001b[0m     \u001b[38;5;28;01mreturn\u001b[39;00m res\n\u001b[0;32m--> 325\u001b[0m \u001b[38;5;28;01mdef\u001b[39;00m \u001b[38;5;21m_solve_dispatcher\u001b[39m(a, b):\n\u001b[1;32m    326\u001b[0m     \u001b[38;5;28;01mreturn\u001b[39;00m (a, b)\n\u001b[1;32m    329\u001b[0m \u001b[38;5;129m@array_function_dispatch\u001b[39m(_solve_dispatcher)\n\u001b[1;32m    330\u001b[0m \u001b[38;5;28;01mdef\u001b[39;00m \u001b[38;5;21msolve\u001b[39m(a, b):\n",
      "\u001b[0;31mKeyboardInterrupt\u001b[0m: "
     ]
    }
   ],
   "source": [
    "# Compute average second derivatives of all traces for each event\n",
    "avg_grad2s = []\n",
    "for event in data[\"event\"][:]:\n",
    "    x_cols = [col for col in event if col.endswith(\"x\")]\n",
    "    grad2s = []\n",
    "    # print(len(event['time']),event['time'][0])\n",
    "    for x_col in x_cols:\n",
    "        grad = derivative(event[\"time\"], event[x_col], 4, 0.1, 15)\n",
    "        grad2 = derivative(event[\"time\"], grad, 4, 0.05, 15)\n",
    "        grad2s.append(grad2)\n",
    "    avg_grad2s.append(np.nanmean(grad2s, axis=0))\n",
    "data[\"grad2\"] = avg_grad2s\n",
    "\n",
    "# Compute index of max\n",
    "max_index = [np.argmax(i) for i in data[\"grad2\"]]\n",
    "data[\"grad2maxIndex\"] = max_index\n",
    "\n",
    "# Calculate event start times based on 2nd derivative\n",
    "data[\"ev_time\"] = [\n",
    "    data[\"event\"][i][\"time\"][data[\"grad2maxIndex\"][i]]\n",
    "    for i in range(len(data[\"event\"]))\n",
    "]"
   ]
  },
  {
   "cell_type": "code",
   "execution_count": 51,
   "id": "d638689f",
   "metadata": {},
   "outputs": [],
   "source": [
    "# make df and export\n",
    "df = pd.DataFrame({\"EventStartTime\": data[\"ev_time\"]})\n",
    "df.to_csv(\"EventStartTime.txt\", sep=\"\\t\", index=False)"
   ]
  }
 ],
 "metadata": {
  "kernelspec": {
   "display_name": "base",
   "language": "python",
   "name": "python3"
  },
  "language_info": {
   "codemirror_mode": {
    "name": "ipython",
    "version": 3
   },
   "file_extension": ".py",
   "mimetype": "text/x-python",
   "name": "python",
   "nbconvert_exporter": "python",
   "pygments_lexer": "ipython3",
   "version": "3.11.9"
  }
 },
 "nbformat": 4,
 "nbformat_minor": 5
}
