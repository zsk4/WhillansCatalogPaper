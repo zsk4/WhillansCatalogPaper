{
 "cells": [
  {
   "cell_type": "code",
   "execution_count": 32,
   "id": "ed16f904",
   "metadata": {},
   "outputs": [],
   "source": [
    "# Zachary Katz\n",
    "# zachary_katz@mines.edu\n",
    "# 04 August 2024\n",
    "\n",
    "# Make input for LEASTSQUARESGMT.sh\n",
    "\n",
    "# Imports\n",
    "\n"
   ]
  },
  {
   "cell_type": "code",
   "execution_count": null,
   "id": "33bc8a5f",
   "metadata": {},
   "outputs": [],
   "source": [
    "\"\"\"\n",
    "# NEED TO FIND WHERE IN CATALOG I MAKE LEASTSQUARESGMT.sh\n",
    "# Occurs in pickevents.ipynb after plotting script and indices script;\n",
    "# Final image is for January 2013 suggesting we need to run this for the 2013/2014 script.\n",
    "for i, index in enumerate(indices[:25]):\n",
    "    if i > 0:\n",
    "        if indices[i - 1] != indices[i]:\n",
    "            start = indices[i - 1]\n",
    "            end = index\n",
    "            if i == 21:\n",
    "                df = pd.DataFrame()\n",
    "                time = merged[\"time\"][start:end]\n",
    "                df.insert(len(df.columns), \"Time\", time)\n",
    "                for j, x_col in enumerate(x_cols):\n",
    "                    x_j = (\n",
    "                        merged[x_col][start:end]\n",
    "                        - np.mean(merged[x_col][start:end])\n",
    "                        - np.ones_like(merged[x_col][start:end])\n",
    "                        * (merged[x_col][start] - np.mean(merged[x_col][start:end]))\n",
    "                    )\n",
    "                    if not np.isnan(x_j.iloc[0]):\n",
    "                        df.insert(len(df.columns), x_col, x_j)\n",
    "                ressum = merged[\"ressum\"][start:end]\n",
    "                thres = np.ones_like(merged[\"ressum\"][start:end]) * thresh\n",
    "                event = merged[\"event\"][start:end]\n",
    "                df.insert(len(df.columns), \"Ressum\", ressum)\n",
    "                df.insert(len(df.columns), \"Threshold\", thres)\n",
    "                df.insert(len(df.columns), \"Event\", event)\n",
    "                print(df)\n",
    "                df.to_csv(\"LeastSquaresGMT.txt\", sep=\"\\t\", index=False)\n",
    "\"\"\""
   ]
  }
 ],
 "metadata": {
  "kernelspec": {
   "display_name": "base",
   "language": "python",
   "name": "python3"
  },
  "language_info": {
   "codemirror_mode": {
    "name": "ipython",
    "version": 3
   },
   "file_extension": ".py",
   "mimetype": "text/x-python",
   "name": "python",
   "nbconvert_exporter": "python",
   "pygments_lexer": "ipython3",
   "version": "3.11.9"
  }
 },
 "nbformat": 4,
 "nbformat_minor": 5
}
