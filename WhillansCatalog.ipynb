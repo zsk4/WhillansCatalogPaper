{
 "cells": [
  {
   "cell_type": "code",
   "execution_count": 3,
   "id": "ed16f904",
   "metadata": {},
   "outputs": [],
   "source": [
    "# TODO Currently accesses .pos files from local directory. Must change to download from Zenodo when available\n",
    "\n",
    "# Zachary Katz\n",
    "# zachary_katz@mines.edu\n",
    "# August 2024\n",
    "\n",
    "# Make and save the catalog of Whillans Stick Slip Events from .pos files\n",
    "\n",
    "# Imports\n",
    "import os\n",
    "\n",
    "import src.Catalog.CatalogWrapper as CatWrap\n",
    "import src.Catalog.Catalog as Catalog\n",
    "import logging\n",
    "\n",
    "################################################################################\n",
    "########################## User Defined Variables ##############################\n",
    "# fmt: off\n",
    "dir = \"/mnt/d/csrs_2024/all\" \n",
    "stas = [\"la01\", \"la02\", \"la03\", \"la04\", \"la05\", \"la06\", \"la07\", \"la08\", \"la09\",\n",
    "        \"la10\", \"la11\", \"la12\", \"la13\", \"la14\", \"la15\", \"la16\", \"la17\", \"la18\",\n",
    "        \"ws04\", \"ws05\",\n",
    "        \"gz01\", \"gz02\", \"gz03\", \"gz04\", \"gz05\", \"gz06\", \"gz07\", \"gz08\", \"gz09\",\n",
    "        \"gz10\", \"gz11\", \"gz12\", \"gz13\", \"gz14\", \"gz15\", \"gz16\", \"gz17\", \"gz18\",\n",
    "        \"gz19\", \"gz20\"\n",
    "        \"mg01\", \"mg02\", \"mg03\", \"mg04\", \"mg05\", \"mg06\", \"mg07\",\n",
    "        \"slw1\"\n",
    "        ]\n",
    "stas = [\"la14\",\"la15\"]\n",
    "year_arr = [[\"2010\", \"2011\"]]\n",
    "year_arr = [[\"2014\", \"2015\"]]\n",
    "max_gap_len = 120\n",
    "\n",
    "# Currently implemented: ERROR, WARNING, INFO\n",
    "# Each level also includes all levels above it.\n",
    "loglevel = \"INFO\" \n",
    "# fmt: on\n",
    "########################## User Defined Variables ##############################\n",
    "################################################################################"
   ]
  },
  {
   "cell_type": "code",
   "execution_count": 4,
   "id": "79d5c248",
   "metadata": {},
   "outputs": [],
   "source": [
    "def set_log_level(loglevel: str) -> None:\n",
    "    \"\"\"Set logging level for the run\n",
    "\n",
    "    Parameters\n",
    "    ----------\n",
    "    loglevel : str\n",
    "        Logging level\n",
    "    \"\"\"\n",
    "    FORMAT = \"%(asctime)s %(name)s %(levelname)s: %(message)s\"\n",
    "    DATEFMT = \"%Y-%m-%d %H:%M:%S\"\n",
    "    if loglevel == \"ERROR\":\n",
    "        logging.basicConfig(\n",
    "            format=FORMAT, datefmt=DATEFMT, level=logging.ERROR, force=True\n",
    "        )\n",
    "    elif loglevel == \"WARNING\":\n",
    "        logging.basicConfig(\n",
    "            format=FORMAT, datefmt=DATEFMT, level=logging.WARNING, force=True\n",
    "        )\n",
    "    elif loglevel == \"INFO\":\n",
    "        logging.basicConfig(\n",
    "            format=FORMAT, datefmt=DATEFMT, level=logging.INFO, force=True\n",
    "        )"
   ]
  },
  {
   "cell_type": "code",
   "execution_count": 5,
   "id": "a8938c3e",
   "metadata": {},
   "outputs": [
    {
     "name": "stderr",
     "output_type": "stream",
     "text": [
      "2024-08-23 09:20:37 __main__ INFO: Creating Dataframe for la14\n",
      "2024-08-23 09:20:50 __main__ INFO: Interpolating la14\n",
      "2024-08-23 09:20:59 __main__ INFO: Creating Catalog\n",
      "2024-08-23 09:20:59 src.Catalog.Catalog INFO: Linear Least Squares on la14\n",
      "2024-08-23 09:21:20 src.Catalog.Catalog INFO: Picking Events\n",
      "2024-08-23 09:21:20 src.Catalog.Catalog INFO: Average: 0.8245161699320017, Standard Deviation: 1.7539553726775758\n"
     ]
    }
   ],
   "source": [
    "# Setup logger\n",
    "set_log_level(loglevel)\n",
    "logger = logging.getLogger(__name__)\n",
    "\n",
    "# Create Catalog\n",
    "for years in year_arr:\n",
    "    cats = []\n",
    "    for sta in stas:\n",
    "        interpolation_time, run = Catalog.set_interpolation_time(sta, years)\n",
    "        if run:\n",
    "            logger.info(f\"Creating Dataframe for {sta}\")\n",
    "            cat = Catalog.Datastream(\n",
    "                os.path.join(dir, sta), sta, years, interpolation_time\n",
    "            )\n",
    "            logger.info(f\"Interpolating {sta}\")\n",
    "            cat.findgaps(interpolation_time)\n",
    "            cats.append(cat)\n",
    "\n",
    "    logger.info(\"Creating Catalog\")\n",
    "    catalog = CatWrap.full_catalog_run(\n",
    "        cats, years, window=600, slide=25, active_stas=2, cull_time=30, plot=False\n",
    "    )"
   ]
  },
  {
   "cell_type": "code",
   "execution_count": 6,
   "id": "1aabbb69",
   "metadata": {},
   "outputs": [],
   "source": [
    "# Plot Example Events\n",
    "for event in catalog[:10]:\n",
    "    Catalog.plot_event(event)"
   ]
  }
 ],
 "metadata": {
  "kernelspec": {
   "display_name": "base",
   "language": "python",
   "name": "python3"
  },
  "language_info": {
   "codemirror_mode": {
    "name": "ipython",
    "version": 3
   },
   "file_extension": ".py",
   "mimetype": "text/x-python",
   "name": "python",
   "nbconvert_exporter": "python",
   "pygments_lexer": "ipython3",
   "version": "3.11.9"
  }
 },
 "nbformat": 4,
 "nbformat_minor": 5
}
