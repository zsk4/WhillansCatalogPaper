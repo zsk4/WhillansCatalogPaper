{
 "cells": [
  {
   "cell_type": "code",
   "execution_count": 1,
   "id": "ed16f904",
   "metadata": {},
   "outputs": [],
   "source": [
    "# TODO Currently accesses .pos files from local directory. Must change to download from Zenodo when available\n",
    "\n",
    "# Zachary Katz\n",
    "# zachary_katz@mines.edu\n",
    "# August 2024\n",
    "\n",
    "# Make and save the catalog of Whillans Stick Slip Events from .pos files\n",
    "\n",
    "# Imports\n",
    "import os\n",
    "\n",
    "import src.Catalog.CatalogWrapper as CatWrap\n",
    "import src.Catalog.Catalog as Catalog\n",
    "import logging\n",
    "\n",
    "################################################################################\n",
    "########################## User Defined Variables ##############################\n",
    "# fmt: off\n",
    "dir = \"/mnt/d/csrs_2024/all\" \n",
    "stas = [\"la01\", \"la02\", \"la03\", \"la04\", \"la05\", \"la06\", \"la07\", \"la08\", \"la09\",\n",
    "        \"la10\", \"la11\", \"la12\", \"la13\", \"la14\", \"la15\", \"la16\", \"la17\", \"la18\",\n",
    "        \"ws04\", \"ws05\",\n",
    "        \"gz01\", \"gz02\", \"gz03\", \"gz04\", \"gz05\", \"gz06\", \"gz07\", \"gz08\", \"gz09\",\n",
    "        \"gz10\", \"gz11\", \"gz12\", \"gz13\", \"gz14\", \"gz15\", \"gz16\", \"gz17\", \"gz18\",\n",
    "        \"gz19\", \"gz20\"\n",
    "        \"mg01\", \"mg02\", \"mg03\", \"mg04\", \"mg05\", \"mg06\", \"mg07\",\n",
    "        \"slw1\"\n",
    "        ]\n",
    "year_arr = [[\"2010\"]]\n",
    "max_gap_len = 120\n",
    "stas = ['la02','la01']\n",
    "# Currently implemented: ERROR, WARNING, INFO, DEBUG\n",
    "# Each level also includes all levels above it.\n",
    "loglevel = \"INFO\" \n",
    "# fmt: on\n",
    "########################## User Defined Variables ##############################\n",
    "################################################################################"
   ]
  },
  {
   "cell_type": "code",
   "execution_count": 2,
   "id": "79d5c248",
   "metadata": {},
   "outputs": [],
   "source": [
    "def set_log_level(loglevel: str) -> None:\n",
    "    \"\"\"Set logging level for the run\n",
    "\n",
    "    Parameters\n",
    "    ----------\n",
    "    loglevel : str\n",
    "        Logging level\n",
    "    \"\"\"\n",
    "    FORMAT = \"%(asctime)s %(name)s %(levelname)s: %(message)s\"\n",
    "    DATEFMT = \"%Y-%m-%d %H:%M:%S\"\n",
    "    if loglevel == \"ERROR\":\n",
    "        logging.basicConfig(\n",
    "            format=FORMAT, datefmt=DATEFMT, level=logging.ERROR, force=True\n",
    "        )\n",
    "    elif loglevel == \"WARNING\":\n",
    "        logging.basicConfig(\n",
    "            format=FORMAT, datefmt=DATEFMT, level=logging.WARNING, force=True\n",
    "        )\n",
    "    elif loglevel == \"INFO\":\n",
    "        logging.basicConfig(\n",
    "            format=FORMAT, datefmt=DATEFMT, level=logging.INFO, force=True\n",
    "        )\n",
    "    elif loglevel == \"DEBUG\":\n",
    "        logging.basicConfig(\n",
    "            format=FORMAT, datefmt=DATEFMT, level=logging.DEBUG, force=True\n",
    "        )"
   ]
  },
  {
   "cell_type": "code",
   "execution_count": 3,
   "id": "a8938c3e",
   "metadata": {},
   "outputs": [
    {
     "name": "stderr",
     "output_type": "stream",
     "text": [
      "2024-08-25 18:45:48 __main__ INFO: Creating Dataframe for la02\n"
     ]
    },
    {
     "ename": "FileNotFoundError",
     "evalue": "[Errno 2] No such file or directory: '/mnt/d/csrs_2024/all/la02'",
     "output_type": "error",
     "traceback": [
      "\u001b[0;31m---------------------------------------------------------------------------\u001b[0m",
      "\u001b[0;31mFileNotFoundError\u001b[0m                         Traceback (most recent call last)",
      "Cell \u001b[0;32mIn[3], line 12\u001b[0m\n\u001b[1;32m     10\u001b[0m \u001b[38;5;28;01mif\u001b[39;00m run:\n\u001b[1;32m     11\u001b[0m     logger\u001b[38;5;241m.\u001b[39minfo(\u001b[38;5;124mf\u001b[39m\u001b[38;5;124m\"\u001b[39m\u001b[38;5;124mCreating Dataframe for \u001b[39m\u001b[38;5;132;01m{\u001b[39;00msta\u001b[38;5;132;01m}\u001b[39;00m\u001b[38;5;124m\"\u001b[39m)\n\u001b[0;32m---> 12\u001b[0m     cat \u001b[38;5;241m=\u001b[39m \u001b[43mCatalog\u001b[49m\u001b[38;5;241;43m.\u001b[39;49m\u001b[43mDatastream\u001b[49m\u001b[43m(\u001b[49m\n\u001b[1;32m     13\u001b[0m \u001b[43m        \u001b[49m\u001b[43mos\u001b[49m\u001b[38;5;241;43m.\u001b[39;49m\u001b[43mpath\u001b[49m\u001b[38;5;241;43m.\u001b[39;49m\u001b[43mjoin\u001b[49m\u001b[43m(\u001b[49m\u001b[38;5;28;43mdir\u001b[39;49m\u001b[43m,\u001b[49m\u001b[43m \u001b[49m\u001b[43msta\u001b[49m\u001b[43m)\u001b[49m\u001b[43m,\u001b[49m\u001b[43m \u001b[49m\u001b[43msta\u001b[49m\u001b[43m,\u001b[49m\u001b[43m \u001b[49m\u001b[43myears\u001b[49m\u001b[43m,\u001b[49m\u001b[43m \u001b[49m\u001b[43minterpolation_time\u001b[49m\n\u001b[1;32m     14\u001b[0m \u001b[43m    \u001b[49m\u001b[43m)\u001b[49m\n\u001b[1;32m     15\u001b[0m     logger\u001b[38;5;241m.\u001b[39minfo(\u001b[38;5;124mf\u001b[39m\u001b[38;5;124m\"\u001b[39m\u001b[38;5;124mInterpolating \u001b[39m\u001b[38;5;132;01m{\u001b[39;00msta\u001b[38;5;132;01m}\u001b[39;00m\u001b[38;5;124m\"\u001b[39m)\n\u001b[1;32m     16\u001b[0m     cat\u001b[38;5;241m.\u001b[39mfindgaps(max_gap_len)\n",
      "File \u001b[0;32m/mnt/c/users/ZacharyKatz/Desktop/WhillansCatPaper/WhillansCatalogPaper/src/Catalog/Catalog.py:98\u001b[0m, in \u001b[0;36mDatastream.__init__\u001b[0;34m(self, sta, name, years, interpolation_time)\u001b[0m\n\u001b[1;32m     95\u001b[0m \u001b[38;5;28mself\u001b[39m\u001b[38;5;241m.\u001b[39myears \u001b[38;5;241m=\u001b[39m years\n\u001b[1;32m     96\u001b[0m \u001b[38;5;28mself\u001b[39m\u001b[38;5;241m.\u001b[39minterpolation_time \u001b[38;5;241m=\u001b[39m interpolation_time\n\u001b[0;32m---> 98\u001b[0m data \u001b[38;5;241m=\u001b[39m \u001b[38;5;28;43mself\u001b[39;49m\u001b[38;5;241;43m.\u001b[39;49m\u001b[43mmake_data_stream\u001b[49m\u001b[43m(\u001b[49m\u001b[43msta\u001b[49m\u001b[43m,\u001b[49m\u001b[43m \u001b[49m\u001b[43myears\u001b[49m\u001b[43m)\u001b[49m\n\u001b[1;32m     99\u001b[0m \u001b[38;5;28mself\u001b[39m\u001b[38;5;241m.\u001b[39mdata \u001b[38;5;241m=\u001b[39m data\n\u001b[1;32m    101\u001b[0m \u001b[38;5;66;03m# Filled in when interpolation is run\u001b[39;00m\n",
      "File \u001b[0;32m/mnt/c/users/ZacharyKatz/Desktop/WhillansCatPaper/WhillansCatalogPaper/src/Catalog/Catalog.py:135\u001b[0m, in \u001b[0;36mDatastream.make_data_stream\u001b[0;34m(self, sta, years)\u001b[0m\n\u001b[1;32m    133\u001b[0m data \u001b[38;5;241m=\u001b[39m pd\u001b[38;5;241m.\u001b[39mDataFrame()\n\u001b[1;32m    134\u001b[0m \u001b[38;5;28;01mfor\u001b[39;00m year \u001b[38;5;129;01min\u001b[39;00m years:\n\u001b[0;32m--> 135\u001b[0m     \u001b[38;5;28;01mfor\u001b[39;00m folder \u001b[38;5;129;01min\u001b[39;00m \u001b[43mos\u001b[49m\u001b[38;5;241;43m.\u001b[39;49m\u001b[43mscandir\u001b[49m\u001b[43m(\u001b[49m\u001b[43mos\u001b[49m\u001b[38;5;241;43m.\u001b[39;49m\u001b[43mfspath\u001b[49m\u001b[43m(\u001b[49m\u001b[38;5;28;43mself\u001b[39;49m\u001b[38;5;241;43m.\u001b[39;49m\u001b[43msta\u001b[49m\u001b[43m)\u001b[49m\u001b[43m)\u001b[49m:\n\u001b[1;32m    136\u001b[0m         \u001b[38;5;66;03m# Folder is an os.DirEntry object\u001b[39;00m\n\u001b[1;32m    137\u001b[0m         \u001b[38;5;28;01mif\u001b[39;00m folder\u001b[38;5;241m.\u001b[39mis_dir():\n\u001b[1;32m    138\u001b[0m             \u001b[38;5;28;01mif\u001b[39;00m folder\u001b[38;5;241m.\u001b[39mname \u001b[38;5;241m==\u001b[39m year:\n",
      "\u001b[0;31mFileNotFoundError\u001b[0m: [Errno 2] No such file or directory: '/mnt/d/csrs_2024/all/la02'"
     ]
    }
   ],
   "source": [
    "# Setup logger\n",
    "set_log_level(loglevel)\n",
    "logger = logging.getLogger(__name__)\n",
    "\n",
    "# Create Catalog\n",
    "for years in year_arr:\n",
    "    cats = []\n",
    "    for sta in stas:\n",
    "        interpolation_time, run = Catalog.set_interpolation_time(sta, years)\n",
    "        if run:\n",
    "            logger.info(f\"Creating Dataframe for {sta}\")\n",
    "            cat = Catalog.Datastream(\n",
    "                os.path.join(dir, sta), sta, years, interpolation_time\n",
    "            )\n",
    "            logger.info(f\"Interpolating {sta}\")\n",
    "            cat.findgaps(max_gap_len)\n",
    "            cats.append(cat)\n",
    "\n",
    "    logger.info(\"Creating Catalog\")\n",
    "    catalog = CatWrap.full_catalog_run(\n",
    "        cats, years, window=600, slide=20, active_stas=2, cull_time=30, plot=False\n",
    "    )"
   ]
  },
  {
   "cell_type": "code",
   "execution_count": 8,
   "id": "1aabbb69",
   "metadata": {},
   "outputs": [
    {
     "name": "stdout",
     "output_type": "stream",
     "text": [
      "[]\n"
     ]
    }
   ],
   "source": [
    "# Plot Example Events\n",
    "for event in catalog[:10]:\n",
    "    Catalog.plot_event(event)\n",
    "print(catalog)"
   ]
  }
 ],
 "metadata": {
  "kernelspec": {
   "display_name": "base",
   "language": "python",
   "name": "python3"
  },
  "language_info": {
   "codemirror_mode": {
    "name": "ipython",
    "version": 3
   },
   "file_extension": ".py",
   "mimetype": "text/x-python",
   "name": "python",
   "nbconvert_exporter": "python",
   "pygments_lexer": "ipython3",
   "version": "3.11.9"
  }
 },
 "nbformat": 4,
 "nbformat_minor": 5
}
